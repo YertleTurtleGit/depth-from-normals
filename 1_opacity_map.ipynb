{
 "cells": [
  {
   "cell_type": "code",
   "execution_count": 1,
   "metadata": {
    "execution": {
     "iopub.execute_input": "2022-02-24T14:06:05.921434Z",
     "iopub.status.busy": "2022-02-24T14:06:05.921174Z",
     "iopub.status.idle": "2022-02-24T14:06:06.684024Z",
     "shell.execute_reply": "2022-02-24T14:06:06.683478Z"
    }
   },
   "outputs": [],
   "source": [
    "from typing import List\n",
    "from logging import warning\n",
    "import numpy as np\n",
    "import cv2 as cv\n",
    "from matplotlib import pyplot as plt\n",
    "from skimage import io\n"
   ]
  },
  {
   "cell_type": "code",
   "execution_count": 2,
   "metadata": {
    "execution": {
     "iopub.execute_input": "2022-02-24T14:06:06.686632Z",
     "iopub.status.busy": "2022-02-24T14:06:06.686483Z",
     "iopub.status.idle": "2022-02-24T14:06:06.691494Z",
     "shell.execute_reply": "2022-02-24T14:06:06.691005Z"
    }
   },
   "outputs": [],
   "source": [
    "IS_NOTEBOOK: bool = True  # @param {type: \"boolean\"}\n",
    "OPACITY_MAP_FILE_NAME: str = \"opacity.png\"  # @param {type: \"string\"}\n",
    "\n",
    "PATH_PREFIX: str = (\n",
    "    \"https://raw.githubusercontent.com/YertleTurtleGit/photometric-stereo-mappings/main/test_dataset/\"\n",
    "    if IS_NOTEBOOK\n",
    "    else \"./../test_dataset/\"\n",
    ")\n",
    "\n",
    "LIGHT_IMAGE_PATHS: List[str] = [\n",
    "    PATH_PREFIX + str(index) + \".png\" for index in range(1, 8 + 1)\n",
    "]\n",
    "BACK_LIGHT_IMAGE_PATHS: List[str] = [\n",
    "    PATH_PREFIX + str(index) + \"b.png\" for index in range(1, 8 + 1)\n",
    "]\n",
    "OUTPUT_PATH = None if IS_NOTEBOOK else PATH_PREFIX + \"output/\" + OPACITY_MAP_FILE_NAME\n"
   ]
  },
  {
   "cell_type": "code",
   "execution_count": 3,
   "metadata": {
    "execution": {
     "iopub.execute_input": "2022-02-24T14:06:06.693684Z",
     "iopub.status.busy": "2022-02-24T14:06:06.693458Z",
     "iopub.status.idle": "2022-02-24T14:06:06.700824Z",
     "shell.execute_reply": "2022-02-24T14:06:06.700229Z"
    }
   },
   "outputs": [],
   "source": [
    "def _read_image(\n",
    "    image_path: str, color: bool = True, target_dtype: np.dtype = np.dtype(\"float64\")\n",
    ") -> np.ndarray:\n",
    "    \"\"\"Reads an image from URI and converts it to an array with specified bit depth.\n",
    "\n",
    "    Args:\n",
    "        image_path (str): The path to the image file.\n",
    "        color (bool, optional): Read image as color image. Defaults to True.\n",
    "        target_dtype (np.dtype, optional): The target bit depth. Defaults to np.dtype(\"float64\").\n",
    "\n",
    "    Returns:\n",
    "        np.ndarray: The output array with shape (w,h,3) for color or (w,h) for grayscale images.\n",
    "    \"\"\"\n",
    "    image = io.imread(image_path)\n",
    "    image_dtype: np.dtype = image.dtype\n",
    "    image = image.astype(target_dtype)\n",
    "\n",
    "    if image_dtype == np.dtype(\"uint8\"):\n",
    "        image /= pow(2, 8) - 1\n",
    "    elif image_dtype == np.dtype(\"uint16\"):\n",
    "        image /= pow(2, 16) - 1\n",
    "    elif image_dtype == np.dtype(\"uint32\"):\n",
    "        image /= pow(2, 32) - 1\n",
    "\n",
    "    if color:\n",
    "        if len(image.shape) == 3:\n",
    "            return image\n",
    "        elif len(image.shape) == 2:\n",
    "            return np.array([image, image, image])\n",
    "        elif len(image.shape) == 4:\n",
    "            return np.array([image[:, :, 0], image[:, :, 1], image[:, :, 2]])\n",
    "        else:\n",
    "            warning(\n",
    "                \"Image channel count of \"\n",
    "                + str(len(image.shape))\n",
    "                + \" with shape \"\n",
    "                + str(image.shape)\n",
    "                + \" is unknown: \"\n",
    "                + image_path\n",
    "            )\n",
    "    else:\n",
    "        if len(image.shape) == 2:\n",
    "            return image\n",
    "        elif len(image.shape) == 3 or len(image.shape) == 4:\n",
    "            return (image[:, :, 0] + image[:, :, 1] + image[:, :, 2]) / 3\n",
    "        else:\n",
    "            warning(\n",
    "                \"Image channel count of \"\n",
    "                + str(len(image.shape))\n",
    "                + \" with shape \"\n",
    "                + str(image.shape)\n",
    "                + \" is unknown: \"\n",
    "                + image_path\n",
    "            )\n",
    "\n",
    "    return image"
   ]
  },
  {
   "cell_type": "code",
   "execution_count": 4,
   "metadata": {
    "execution": {
     "iopub.execute_input": "2022-02-24T14:06:06.702958Z",
     "iopub.status.busy": "2022-02-24T14:06:06.702814Z",
     "iopub.status.idle": "2022-02-24T14:06:06.713810Z",
     "shell.execute_reply": "2022-02-24T14:06:06.708671Z"
    }
   },
   "outputs": [],
   "source": [
    "def opacity_map(\n",
    "    light_images_paths: List[str],\n",
    "    back_light_images_paths: List[str],\n",
    "    output_path: str = None,\n",
    "    threshold: float = 6 / 16,\n",
    "):\n",
    "\n",
    "    light_images: List[np.ndarray] = [\n",
    "        _read_image(light_image_path) for light_image_path in light_images_paths\n",
    "    ]\n",
    "    back_light_images: List[np.ndarray] = [\n",
    "        _read_image(back_light_images_path)\n",
    "        for back_light_images_path in back_light_images_paths\n",
    "    ]\n",
    "\n",
    "    opacity_map: np.ndarray = np.zeros(\n",
    "        (light_images[0].shape[0], light_images[0].shape[1])\n",
    "    )\n",
    "\n",
    "    de_kernel = cv.getStructuringElement(cv.MORPH_ELLIPSE, (3, 3))\n",
    "\n",
    "    for light_image in np.concatenate((light_images, back_light_images)):\n",
    "        light_image = np.clip(light_image * 255, 0, 255).astype(\"uint8\")\n",
    "\n",
    "        light_image = cv.blur(light_image, (3, 3))\n",
    "        canny = cv.Canny(light_image, 10, 245, 3)\n",
    "        canny = cv.dilate(canny, de_kernel)\n",
    "\n",
    "        _, flood_fill, _, _ = cv.floodFill(\n",
    "            canny, None, (round(light_image.shape[1] / 2), 0), 128\n",
    "        )\n",
    "        opacity_map[flood_fill == 128] += 255 / 16\n",
    "\n",
    "    opacity_map[opacity_map < 255 * threshold] = 0\n",
    "    opacity_map[opacity_map >= 255 * threshold] = 255\n",
    "    opacity_map = 255 - opacity_map\n",
    "\n",
    "    opacity_map = cv.erode(\n",
    "        opacity_map, cv.getStructuringElement(cv.MORPH_ELLIPSE, (5, 5))\n",
    "    )\n",
    "\n",
    "    if output_path:\n",
    "        cv.imwrite(output_path, opacity_map)\n",
    "    else:\n",
    "        plt.imshow(opacity_map)\n"
   ]
  },
  {
   "cell_type": "code",
   "execution_count": 5,
   "metadata": {
    "execution": {
     "iopub.execute_input": "2022-02-24T14:06:06.716327Z",
     "iopub.status.busy": "2022-02-24T14:06:06.716071Z",
     "iopub.status.idle": "2022-02-24T14:06:11.022136Z",
     "shell.execute_reply": "2022-02-24T14:06:11.021597Z"
    }
   },
   "outputs": [
    {
     "data": {
      "image/png": "[encoded data removed]",
      "text/plain": [
       "<Figure size 432x288 with 1 Axes>"
      ]
     },
     "metadata": {
      "needs_background": "light"
     },
     "output_type": "display_data"
    }
   ],
   "source": [
    "if __name__ == \"__main__\":\n",
    "    opacity_map(LIGHT_IMAGE_PATHS, BACK_LIGHT_IMAGE_PATHS, OUTPUT_PATH)\n"
   ]
  }
 ],
 "metadata": {
  "interpreter": {
   "hash": "9fb47bfb27aa80605ee8bc9c35db619ba1a83d93aaa1ab9d0d517b5218a2e478"
  },
  "kernelspec": {
   "display_name": "Python 3.8.10 ('.venv')",
   "language": "python",
   "name": "python3"
  },
  "language_info": {
   "codemirror_mode": {
    "name": "ipython",
    "version": 3
   },
   "file_extension": ".py",
   "mimetype": "text/x-python",
   "name": "python",
   "nbconvert_exporter": "python",
   "pygments_lexer": "ipython3",
   "version": "3.8.10"
  }
 },
 "nbformat": 4,
 "nbformat_minor": 2
}
