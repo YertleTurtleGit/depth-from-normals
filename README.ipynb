{
 "cells": [
  {
   "cell_type": "markdown",
   "metadata": {},
   "source": [
    "[![Map Pipeline](https://github.com/YertleTurtleGit/depth-from-normals/actions/workflows/map_pipeline.yml/badge.svg)](https://github.com/YertleTurtleGit/depth-from-normals/actions/workflows/map_pipeline.yml)\n",
    "[![Lint](https://github.com/YertleTurtleGit/depth-from-normals/actions/workflows/lint.yml/badge.svg)](https://github.com/YertleTurtleGit/depth-from-normals/actions/workflows/lint.yml)\n",
    "<a target=\"_blank\" href=\"https://colab.research.google.com/github/YertleTurtleGit/depth-from-normals\">\n",
    "<img src=\"https://colab.research.google.com/assets/colab-badge.svg\" alt=\"Open In Colab\"/>\n",
    "</a>\n"
   ]
  },
  {
   "cell_type": "markdown",
   "metadata": {},
   "source": [
    "# Introduction\n"
   ]
  },
  {
   "cell_type": "markdown",
   "metadata": {},
   "source": [
    "This algorithm estimates a 3d integral with the normal mapping. First the directional gradients of the normals in x- and y-direction are calculated. They are then used to calculate the integrated values by a cumulative sum (Riemann sum). This process is repeated with differently rotated versions of the gradient mapping to average the values and reduce errors as a cumulative sum alone is very prone for subsequent errors.\n"
   ]
  },
  {
   "cell_type": "markdown",
   "metadata": {
    "id": "5VrhtlvFNVE6"
   },
   "source": [
    "# Source code\n"
   ]
  },
  {
   "cell_type": "markdown",
   "metadata": {},
   "source": [
    "## Imports\n"
   ]
  },
  {
   "cell_type": "code",
   "execution_count": null,
   "metadata": {
    "execution": {
     "iopub.execute_input": "2022-03-21T08:04:05.289303Z",
     "iopub.status.busy": "2022-03-21T08:04:05.289164Z",
     "iopub.status.idle": "2022-03-21T08:04:19.591044Z",
     "shell.execute_reply": "2022-03-21T08:04:19.590486Z"
    },
    "id": "qJM0ecFCGW7m"
   },
   "outputs": [],
   "source": [
    "import numpy as np\n",
    "import cv2 as cv\n",
    "from scipy.integrate import cumulative_trapezoid\n",
    "from skimage import io\n",
    "from math import sin, cos, radians\n",
    "from threading import Thread, Lock\n",
    "from typing import List\n",
    "from matplotlib import pyplot as plt"
   ]
  },
  {
   "cell_type": "markdown",
   "metadata": {},
   "source": [
    "## Input & Settings\n"
   ]
  },
  {
   "cell_type": "code",
   "execution_count": null,
   "metadata": {
    "execution": {
     "iopub.execute_input": "2022-03-21T08:04:05.280324Z",
     "iopub.status.busy": "2022-03-21T08:04:05.279926Z",
     "iopub.status.idle": "2022-03-21T08:04:05.287018Z",
     "shell.execute_reply": "2022-03-21T08:04:05.286531Z"
    }
   },
   "outputs": [],
   "source": [
    "NORMAL_MAP_A_PATH: str = \"https://raw.githubusercontent.com/YertleTurtleGit/depth-from-normals/main/normal_mapping_a.png\"  # @param {type: \"string\"}\n",
    "NORMAL_MAP_B_PATH: str = \"https://raw.githubusercontent.com/YertleTurtleGit/depth-from-normals/main/normal_mapping_b.png\"\n",
    "NORMAL_MAP_A_IMAGE: np.ndarray = io.imread(NORMAL_MAP_A_PATH)\n",
    "NORMAL_MAP_B_IMAGE: np.ndarray = io.imread(NORMAL_MAP_B_PATH)"
   ]
  },
  {
   "cell_type": "code",
   "execution_count": null,
   "metadata": {},
   "outputs": [],
   "source": [
    "# Source: commons.wikimedia.org\n",
    "plt.imshow(NORMAL_MAP_A_IMAGE)"
   ]
  },
  {
   "cell_type": "code",
   "execution_count": null,
   "metadata": {},
   "outputs": [],
   "source": [
    "plt.imshow(NORMAL_MAP_B_IMAGE)"
   ]
  },
  {
   "cell_type": "markdown",
   "metadata": {},
   "source": [
    "## Sub-methods\n"
   ]
  },
  {
   "cell_type": "markdown",
   "metadata": {},
   "source": [
    "### Gradient Map"
   ]
  },
  {
   "cell_type": "markdown",
   "metadata": {},
   "source": [
    "The gradient maps are the basis for the integration over the normal map.\n",
    "\n",
    "Given the normal vector $\\vec{n} \\in \\mathbb{R}^{3}$ and a rotation value $r \\in \\mathbb{R}[0,2\\pi]$, the gradient of a single pixel and a single rotation $g(r)$ is calculated:\n",
    "\n",
    "$$\n",
    "g_x = -\\cos{\\vec{n}_x} \\sin{\\vec{n}_x}\n",
    "$$\n",
    "\n",
    "$$\n",
    "g_y = \\cos{\\vec{n}_y} \\sin{\\vec{n}_y}\n",
    "$$\n",
    "\n",
    "$$\n",
    "g(r) = g_x \\cos{r} + g_y \\sin{r}\n",
    "$$\n",
    "\n",
    "This will be calculated for every pixel and for every rotation value."
   ]
  },
  {
   "cell_type": "code",
   "execution_count": null,
   "metadata": {},
   "outputs": [],
   "source": [
    "def calculate_gradient_map(\n",
    "    normal_map: np.ndarray, normal_map_is_open_gl: bool = True\n",
    ") -> np.ndarray:\n",
    "    width, height, _ = normal_map.shape\n",
    "    normal_map = normal_map[:, :, :3]  # Remove alpha channel if present.\n",
    "    normal_map = ((normal_map / 255) - 0.5) * 2  # Transform from [0, 255] to [-1, 1].\n",
    "    if not normal_map_is_open_gl:\n",
    "        normal_map[:, :, 1] *= -1  # Invert green/y channel if not OpenGL.\n",
    "\n",
    "    gradient_map = np.empty((width, height, 2))\n",
    "    gradient_map[:, :, 0] = -normal_map[:, :, 0] / normal_map[:, :, 2]\n",
    "    gradient_map[:, :, 1] = normal_map[:, :, 1] / normal_map[:, :, 2]\n",
    "    return gradient_map\n",
    "\n",
    "\n",
    "gradient_map_image = calculate_gradient_map(NORMAL_MAP_A_IMAGE)\n",
    "gradient_map_image -= np.min(gradient_map_image)\n",
    "gradient_map_image /= np.max(gradient_map_image)\n",
    "gradient_map_image = (gradient_map_image * 255).astype(np.uint8)\n",
    "\n",
    "_, axis_array = plt.subplots(1, 2)\n",
    "axis_array[0].set_title(\"horizontal gradient\")\n",
    "axis_array[0].imshow(gradient_map_image[:, :, 0])\n",
    "axis_array[1].set_title(\"vertical gradient\")\n",
    "axis_array[1].imshow(gradient_map_image[:, :, 1])"
   ]
  },
  {
   "cell_type": "markdown",
   "metadata": {},
   "source": [
    "### Rotation"
   ]
  },
  {
   "cell_type": "code",
   "execution_count": null,
   "metadata": {},
   "outputs": [],
   "source": [
    "def rotate(image: np.ndarray, angle: float, resize: bool = True) -> np.ndarray:\n",
    "    from math import sqrt, ceil\n",
    "    from cv2 import getRotationMatrix2D, warpAffine\n",
    "\n",
    "    height, width = image.shape[:2]\n",
    "    new_height: int = height\n",
    "    new_width: int = width\n",
    "\n",
    "    if resize:\n",
    "        # TODO optimize new resolution\n",
    "        image_diagonal_length: int = ceil(sqrt(height**2 + width**2))\n",
    "        angle_radians = radians(angle)\n",
    "        new_height = image_diagonal_length\n",
    "        new_width = image_diagonal_length\n",
    "\n",
    "    channel_count = image.shape[2] if len(image.shape) == 3 else 1\n",
    "    shape = (\n",
    "        (new_height, new_width)\n",
    "        if channel_count == 1\n",
    "        else (new_height, new_width, channel_count)\n",
    "    )\n",
    "    rotated_image = np.zeros(shape, dtype=image.dtype)\n",
    "\n",
    "    if resize:\n",
    "        rotated_image[\n",
    "            (new_height - height) // 2 : (new_height + height) // 2,\n",
    "            (new_width - width) // 2 : (new_width + width) // 2,\n",
    "        ] = image\n",
    "    else:\n",
    "        rotated_image = image\n",
    "\n",
    "    rotation_matrix = getRotationMatrix2D((new_width // 2, new_height // 2), angle, 1)\n",
    "    return warpAffine(rotated_image, rotation_matrix, rotated_image.shape[:2])\n",
    "\n",
    "\n",
    "plt.imshow(rotate(NORMAL_MAP_A_IMAGE, 20))"
   ]
  },
  {
   "cell_type": "markdown",
   "metadata": {},
   "source": [
    "## Height Mapping"
   ]
  },
  {
   "cell_type": "markdown",
   "metadata": {},
   "source": [
    "The height values $h(x,y) \\in \\mathbb{R}^{2}, \\ \\ x,y \\in \\mathbb{N}^{0}$ can be calculated by a simple anisotropic cumulative sum over the gradients which converges to an integral over $g(x,y)$:\n",
    "\n",
    "$$\n",
    "h(x_t,y_t) = \\int\\int g(x,y) dydx \\ \\ (x_t,y_t) \\approx \\sum_{x_i=0}^{x_t} g(x_i,y_t)\n",
    "$$\n",
    "\n",
    "This alone is very prone for errors. That’s why the rotation is introduced. When re-calculating the gradient map multiple times with a rotation factor and using that to calculate the height values for every re-calculated gradient map, adding this values together drastically improves the resulting height values:\n",
    "\n",
    "$$\n",
    "h(x_t,y_t) = \\sum_{r=0}^{2\\pi} \\sum_{x_i=0}^{x_t} g(r)(x_i,y_t)\n",
    "$$\n"
   ]
  },
  {
   "cell_type": "markdown",
   "metadata": {},
   "source": [
    "(In the following example, instead of a cumulative sum, a cumulative trapezoid is used. Both result in similar height values in most cases.)"
   ]
  },
  {
   "cell_type": "code",
   "execution_count": null,
   "metadata": {
    "execution": {
     "iopub.execute_input": "2022-03-21T08:04:19.593769Z",
     "iopub.status.busy": "2022-03-21T08:04:19.593613Z",
     "iopub.status.idle": "2022-03-21T08:04:19.635319Z",
     "shell.execute_reply": "2022-03-21T08:04:19.634803Z"
    }
   },
   "outputs": [],
   "source": [
    "def estimate_height_map(\n",
    "    normal_map: np.ndarray,\n",
    "    normal_map_is_open_gl: bool = True,\n",
    "    target_iteration_count: int = 1000,\n",
    "    max_thread_count: int = 4,\n",
    ") -> np.ndarray:\n",
    "    \"\"\"Estimates a depth mapping from a given normal mapping.\n",
    "\n",
    "    Parameters\n",
    "    ----------\n",
    "    normal_map : np.ndarray\n",
    "        The normal mapping as numpy array.\n",
    "    normal_map_is_open_gl : bool, optional\n",
    "        Set to `False` if the normal map is in DirectX format with flipped green/y channel, by default `True`.\n",
    "    target_iteration_count : int, optional\n",
    "        The target iteration count of the depth mapping defined how many iterations of integrations are performed, by default `1`.\n",
    "    max_thread_count : int, optional\n",
    "        The maximum number of threads used to calculate the depth mapping, by default `1`.\n",
    "\n",
    "    Returns\n",
    "    -------\n",
    "    np.ndarray\n",
    "        The depth mapping as image array.\n",
    "    \"\"\"\n",
    "    width, height, _ = normal_map.shape\n",
    "    gradient_map = calculate_gradient_map(normal_map, normal_map_is_open_gl)\n",
    "\n",
    "    isotropic_integral = np.zeros((width, height))\n",
    "    isotropic_integral_lock: Lock = Lock()\n",
    "\n",
    "    def integrate_anisotropic(angles: List[float]):\n",
    "\n",
    "        for angle in angles:\n",
    "\n",
    "            anisotropic_gradient_map = rotate(\n",
    "                gradient_map[:, :, 0] * cos(radians(angle))\n",
    "                + gradient_map[:, :, 1] * sin(radians(angle)),\n",
    "                angle,\n",
    "            ).astype(np.float64)\n",
    "\n",
    "            anisotropic_integral = rotate(\n",
    "                cumulative_trapezoid(anisotropic_gradient_map),\n",
    "                -angle,\n",
    "            ).astype(np.float64)\n",
    "\n",
    "            top_crop: int = (anisotropic_integral.shape[0] - height) // 2\n",
    "            left_crop: int = (anisotropic_integral.shape[1] - width) // 2\n",
    "            anisotropic_integral = anisotropic_integral[\n",
    "                top_crop : top_crop + height,\n",
    "                left_crop : left_crop + width,\n",
    "            ]\n",
    "\n",
    "            isotropic_integral_lock.acquire()\n",
    "            nonlocal isotropic_integral\n",
    "            isotropic_integral += anisotropic_integral\n",
    "            isotropic_integral_lock.release()\n",
    "\n",
    "    max_thread_count = max(max_thread_count, 1)\n",
    "    anisotropic_integral_threads: List[Thread] = []\n",
    "    angle_per_thread: float = 360 / max_thread_count\n",
    "    iterations_per_thread: int = max(\n",
    "        round(target_iteration_count / max_thread_count), 1\n",
    "    )\n",
    "\n",
    "    for thread_id in range(0, max_thread_count):\n",
    "        angle_start_point: float = thread_id * angle_per_thread\n",
    "        angle_stop_point: float = (thread_id + 1) * angle_per_thread\n",
    "\n",
    "        angles = np.linspace(\n",
    "            angle_start_point,\n",
    "            angle_stop_point,\n",
    "            iterations_per_thread,\n",
    "            endpoint=False,\n",
    "        )\n",
    "\n",
    "        thread = Thread(target=integrate_anisotropic, args=(angles,))\n",
    "        thread.start()\n",
    "        anisotropic_integral_threads.append(thread)\n",
    "\n",
    "    for thread in anisotropic_integral_threads:\n",
    "        thread.join()\n",
    "\n",
    "    depth_map = isotropic_integral\n",
    "\n",
    "    # Normalizes depth values to [0, 1].\n",
    "    depth_map -= np.min(depth_map)\n",
    "    depth_map /= np.max(depth_map)\n",
    "\n",
    "    depth_map *= 2**8 - 1  # Transform from [0, 1] to [0, 255].\n",
    "    depth_map = np.clip(depth_map, 0, 255)\n",
    "\n",
    "    return depth_map.astype(np.uint8)"
   ]
  },
  {
   "cell_type": "markdown",
   "metadata": {},
   "source": [
    "In the following example, you can see the effect of the gradient rotation on the height map quality."
   ]
  },
  {
   "cell_type": "code",
   "execution_count": null,
   "metadata": {},
   "outputs": [],
   "source": [
    "figure, axis_array = plt.subplots(1, 3)\n",
    "figure.set_size_inches((12, 5))\n",
    "\n",
    "for index in range(3):\n",
    "    iteration_count = max(index * 50, 1)\n",
    "    axis_array[index].set_title(f\"iteration count: {iteration_count}\")\n",
    "\n",
    "    depth_map_image: np.ndarray = estimate_height_map(\n",
    "        NORMAL_MAP_B_IMAGE, target_iteration_count=iteration_count\n",
    "    )\n",
    "\n",
    "    axis_array[index].imshow(depth_map_image)"
   ]
  },
  {
   "cell_type": "markdown",
   "metadata": {},
   "source": [
    "## Example usage\n"
   ]
  },
  {
   "cell_type": "code",
   "execution_count": null,
   "metadata": {
    "execution": {
     "iopub.execute_input": "2022-03-21T08:04:19.637533Z",
     "iopub.status.busy": "2022-03-21T08:04:19.637390Z",
     "iopub.status.idle": "2022-03-21T08:04:21.129930Z",
     "shell.execute_reply": "2022-03-21T08:04:21.129503Z"
    }
   },
   "outputs": [],
   "source": [
    "depth_map_image: np.ndarray = estimate_height_map(\n",
    "    NORMAL_MAP_A_IMAGE,\n",
    "    normal_map_is_open_gl=True,\n",
    "    target_iteration_count=100,\n",
    "    max_thread_count=4,\n",
    ")\n",
    "\n",
    "plt.imshow(depth_map_image)"
   ]
  }
 ],
 "metadata": {
  "anaconda-cloud": {},
  "colab": {
   "collapsed_sections": [],
   "name": "map-test.ipynb",
   "provenance": []
  },
  "kernelspec": {
   "display_name": "Python 3.10.6 64-bit",
   "language": "python",
   "name": "python3"
  },
  "language_info": {
   "codemirror_mode": {
    "name": "ipython",
    "version": 3
   },
   "file_extension": ".py",
   "mimetype": "text/x-python",
   "name": "python",
   "nbconvert_exporter": "python",
   "pygments_lexer": "ipython3",
   "version": "3.10.6"
  },
  "vscode": {
   "interpreter": {
    "hash": "916dbcbb3f70747c44a77c7bcd40155683ae19c65e1c03b4aa3499c5328201f1"
   }
  }
 },
 "nbformat": 4,
 "nbformat_minor": 0
}
