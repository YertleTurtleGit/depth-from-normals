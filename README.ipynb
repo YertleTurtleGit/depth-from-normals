{
 "cells": [
  {
   "cell_type": "markdown",
   "metadata": {},
   "source": [
    "[![Map Pipeline](https://github.com/YertleTurtleGit/depth-from-normals/actions/workflows/map_pipeline.yml/badge.svg)](https://github.com/YertleTurtleGit/depth-from-normals/actions/workflows/map_pipeline.yml)\n",
    "[![Lint](https://github.com/YertleTurtleGit/depth-from-normals/actions/workflows/lint.yml/badge.svg)](https://github.com/YertleTurtleGit/depth-from-normals/actions/workflows/lint.yml)\n",
    "<a target=\"_blank\" href=\"https://colab.research.google.com/github/YertleTurtleGit/depth-from-normals\">\n",
    "<img src=\"https://colab.research.google.com/assets/colab-badge.svg\" alt=\"Open In Colab\"/>\n",
    "</a>\n",
    "\n",
    "<!-- START doctoc generated TOC please keep comment here to allow auto update -->\n",
    "<!-- END doctoc generated TOC please keep comment here to allow auto update -->"
   ]
  },
  {
   "cell_type": "markdown",
   "metadata": {},
   "source": [
    "# Introduction\n"
   ]
  },
  {
   "cell_type": "markdown",
   "metadata": {},
   "source": [
    "This algorithm estimates a 3d integral with the normal mapping with surface integrals of vector fields. First the directional gradients of the normals in x- and y-direction are calculated. They are then used to calculate the integrated values by a cumulative sum (Riemann sum). This process is repeated with differently rotated versions of the gradient mapping to average the values and reduce errors as a cumulative sum alone is very prone for subsequent errors.\n"
   ]
  },
  {
   "cell_type": "markdown",
   "metadata": {},
   "source": [
    "# Imports & Inputs"
   ]
  },
  {
   "cell_type": "code",
   "execution_count": null,
   "metadata": {
    "execution": {
     "iopub.execute_input": "2022-03-21T08:04:05.289303Z",
     "iopub.status.busy": "2022-03-21T08:04:05.289164Z",
     "iopub.status.idle": "2022-03-21T08:04:19.591044Z",
     "shell.execute_reply": "2022-03-21T08:04:19.590486Z"
    },
    "id": "qJM0ecFCGW7m"
   },
   "outputs": [],
   "source": [
    "import numpy as np\n",
    "import cv2 as cv\n",
    "from scipy.integrate import cumulative_trapezoid, simpson\n",
    "from skimage import io\n",
    "from math import sin, cos, radians, degrees, pi, floor\n",
    "from threading import Thread, Lock\n",
    "from typing import List, Tuple, Union\n",
    "from matplotlib import pyplot as plt\n",
    "from matplotlib.colors import TwoSlopeNorm"
   ]
  },
  {
   "cell_type": "code",
   "execution_count": null,
   "metadata": {
    "execution": {
     "iopub.execute_input": "2022-03-21T08:04:05.280324Z",
     "iopub.status.busy": "2022-03-21T08:04:05.279926Z",
     "iopub.status.idle": "2022-03-21T08:04:05.287018Z",
     "shell.execute_reply": "2022-03-21T08:04:05.286531Z"
    }
   },
   "outputs": [],
   "source": [
    "NORMAL_MAP_A_PATH: str = \"https://raw.githubusercontent.com/YertleTurtleGit/depth-from-normals/main/normal_mapping_a.png\"  # @param {type: \"string\"}\n",
    "NORMAL_MAP_B_PATH: str = \"https://raw.githubusercontent.com/YertleTurtleGit/depth-from-normals/main/normal_mapping_b.png\"\n",
    "NORMAL_MAP_A_IMAGE: np.ndarray = io.imread(NORMAL_MAP_A_PATH)\n",
    "NORMAL_MAP_B_IMAGE: np.ndarray = io.imread(NORMAL_MAP_B_PATH)"
   ]
  },
  {
   "cell_type": "markdown",
   "metadata": {},
   "source": [
    "# Explanation\n"
   ]
  },
  {
   "cell_type": "markdown",
   "metadata": {},
   "source": [
    "## Gradients\n",
    "\n",
    "First we calculate the anisotropic (directional) gradients from our normal map.\n",
    "\n",
    "Given the normal vector $\\vec{n} \\in \\mathbb{R}^{3}$ and a rotation value $r \\in \\mathbb{R}[0,2\\pi]$, the anisotropic gradients are calculated:\n",
    "\n",
    "$$\n",
    "a_h = \\arccos{\\vec{n}_x}, \\hspace{5px} g_{left} = (1 - \\sin{a_h}) * sgn(a_h - \\frac{\\pi}{2})\n",
    "$$\n",
    "\n",
    "$$\n",
    "a_v = \\arccos{\\vec{n}_y}, \\hspace{5px} g_{top} = (1 - \\sin{a_v}) * sgn(a_v - \\frac{\\pi}{2})\n",
    "$$\n",
    "\n",
    "This will be calculated for every pixel and for every rotation value.\n"
   ]
  },
  {
   "cell_type": "code",
   "execution_count": null,
   "metadata": {},
   "outputs": [],
   "source": [
    "def calculate_gradients(normals):\n",
    "    horizontal_angle_map = np.arccos(np.clip(normals[:, :, 0], -1, 1))\n",
    "    left_gradients = (1 - np.sin(horizontal_angle_map)) * np.sign(\n",
    "        horizontal_angle_map - pi / 2\n",
    "    )\n",
    "\n",
    "    vertical_angle_map = np.arccos(np.clip(normals[:, :, 1], -1, 1))\n",
    "    top_gradients = -(1 - np.sin(vertical_angle_map)) * np.sign(\n",
    "        vertical_angle_map - pi / 2\n",
    "    )\n",
    "\n",
    "    return left_gradients, top_gradients\n",
    "\n",
    "\n",
    "normals = ((NORMAL_MAP_A_IMAGE[:, :, :3] / 255) - 0.5) * 2\n",
    "left_gradients, top_gradients = calculate_gradients(normals)\n",
    "\n",
    "\n",
    "figsize = (14, 14)\n",
    "figure, axes = plt.subplots(1, 3, figsize=figsize)\n",
    "axes[0].set_title(\"anisotropic left gradients (left to right)\")\n",
    "_ = axes[0].imshow(left_gradients, cmap=\"RdBu\", norm=TwoSlopeNorm(0))\n",
    "axes[1].set_title(\"anisotropic top gradients (top to bottom)\")\n",
    "_ = axes[1].imshow(top_gradients, cmap=\"RdBu\", norm=TwoSlopeNorm(0))\n",
    "axes[2].set_title(\"normals (clipped)\")\n",
    "_ = axes[2].imshow(np.clip(normals, 0, 255))"
   ]
  },
  {
   "cell_type": "markdown",
   "metadata": {},
   "source": [
    "## Heights\n",
    "\n",
    "The height values $h(x,y) \\in \\mathbb{R}^{2}, \\ \\ x,y \\in \\mathbb{N}^{0}$ can be calculated by a anisotropic cumulative sum over the gradients which converges to an integral over $g(x,y)$:\n",
    "\n",
    "$$\n",
    "h(x_t,y_t) = \\int\\int g(x,y) dydx \\ \\ (x_t,y_t) \\approx \\sum_{x_i=0}^{x_t} g(x_i,y_t)\n",
    "$$\n",
    "\n",
    "The isotropic (non-directional) heights are determined with a combination of all anisotropic heights.\n"
   ]
  },
  {
   "cell_type": "code",
   "execution_count": null,
   "metadata": {},
   "outputs": [],
   "source": [
    "def integrate_gradient_field(gradient_field, axis):\n",
    "    integral = np.zeros(gradient_field.shape[:2])\n",
    "\n",
    "    return np.cumsum(gradient_field, axis=axis)\n",
    "    # return cumulative_trapezoid(gradient_field, axis=axis)\n",
    "    if axis == 1:\n",
    "        for y in range(gradient_field.shape[0]):\n",
    "            for x in range(1, gradient_field.shape[1]):\n",
    "                integral[y, x] = simpson(gradient_field[y, :x])\n",
    "\n",
    "    elif axis == 0:\n",
    "        for y in range(1, gradient_field.shape[0]):\n",
    "            for x in range(gradient_field.shape[1]):\n",
    "                integral[y, x] = simpson(gradient_field[y - 1 : y + 1, x])\n",
    "\n",
    "    return integral\n",
    "\n",
    "\n",
    "def calculate_heights(left_gradients, top_gradients):\n",
    "    left_heights = integrate_gradient_field(left_gradients, axis=1)\n",
    "    right_heights = np.fliplr(\n",
    "        integrate_gradient_field(np.fliplr(-left_gradients), axis=1)\n",
    "    )\n",
    "    top_heights = integrate_gradient_field(top_gradients, axis=0)\n",
    "    bottom_heights = np.flipud(\n",
    "        integrate_gradient_field(np.flipud(-top_gradients), axis=0)\n",
    "    )\n",
    "    return left_heights, right_heights, top_heights, bottom_heights\n",
    "\n",
    "\n",
    "left_heights, right_heights, top_heights, bottom_heights = calculate_heights(\n",
    "    left_gradients, top_gradients\n",
    ")\n",
    "\n",
    "\n",
    "def combine_heights(*heights):\n",
    "    std = np.std(heights, axis=0)\n",
    "    mean = np.mean(heights, axis=0)\n",
    "    median = np.median(heights, axis=0)\n",
    "    return mean\n",
    "\n",
    "    outlier_mask = None\n",
    "\n",
    "    for height in heights:\n",
    "        outlier_mask = np.abs(height - mean) < std * 1.1\n",
    "        height[outlier_mask] = mean[outlier_mask] - height[outlier_mask] * (\n",
    "            len(heights) / len(heights) - 1\n",
    "        )\n",
    "\n",
    "    return np.mean(heights, axis=0)\n",
    "\n",
    "\n",
    "isotropic_heights = combine_heights(\n",
    "    left_heights, right_heights, top_heights, bottom_heights\n",
    ")\n",
    "\n",
    "\n",
    "def visualize_heights(left_heights, top_heights, isotropic_heights):\n",
    "    figure, axes = plt.subplots(1, 5, figsize=(19, 5))\n",
    "    axes[0].set_title(\"anisotropic left heights\")\n",
    "    _ = axes[0].imshow(left_heights, norm=TwoSlopeNorm(0.5))\n",
    "    axes[1].set_title(\"anisotropic right heights\")\n",
    "    _ = axes[1].imshow(right_heights, norm=TwoSlopeNorm(0.5))\n",
    "    axes[2].set_title(\"anisotropic top heights\")\n",
    "    _ = axes[2].imshow(top_heights, norm=TwoSlopeNorm(0.5))\n",
    "    axes[3].set_title(\"anisotropic bottom heights\")\n",
    "    _ = axes[3].imshow(bottom_heights, norm=TwoSlopeNorm(0.5))\n",
    "    axes[4].set_title(\"isotropic heights\")\n",
    "    _ = axes[4].imshow(isotropic_heights, norm=TwoSlopeNorm(0.5))\n",
    "\n",
    "    x, y = np.meshgrid(range(left_heights.shape[0]), range(left_heights.shape[1]))\n",
    "    figure, axes = plt.subplots(1, 5, subplot_kw={\"projection\": \"3d\"}, figsize=(19, 5))\n",
    "    _ = axes[0].scatter(x, y, left_heights, c=left_heights)\n",
    "    _ = axes[1].scatter(x, y, right_heights, c=right_heights)\n",
    "    _ = axes[2].scatter(x, y, top_heights, c=top_heights)\n",
    "    _ = axes[3].scatter(x, y, bottom_heights, c=bottom_heights)\n",
    "    _ = axes[4].scatter(x, y, isotropic_heights, c=isotropic_heights)\n",
    "\n",
    "\n",
    "visualize_heights(left_heights, top_heights, isotropic_heights)"
   ]
  },
  {
   "cell_type": "markdown",
   "metadata": {},
   "source": [
    "## Rotation\n",
    "\n",
    "This alone is very prone for errors. That’s why rotation is introduced. When re-calculating the gradient map multiple times with a rotation factor and using that to calculate the height values for every re-calculated gradient map, adding this values together drastically improves the resulting height values:\n",
    "\n",
    "$$\n",
    "h(x_t,y_t) = \\sum_{r=0}^{2\\pi} \\sum_{x_i=0}^{x_t} g(r)(x_i,y_t)\n",
    "$$\n",
    "\n",
    "If we think of the left, right, top and bottom height maps in polar coordinates, we better call them 180°, 0°, 90° and 270° height maps.\n"
   ]
  },
  {
   "cell_type": "code",
   "execution_count": null,
   "metadata": {},
   "outputs": [],
   "source": [
    "plt.polar()\n",
    "_ = plt.yticks([1])"
   ]
  },
  {
   "cell_type": "markdown",
   "metadata": {},
   "source": [
    "If we want to for example calculate a 225° anisotropic height map, we need to rotate the normal map first, but a simple image-rotation will result in wrong normals. Thus, we also need to rotate the normals accordingly.\n"
   ]
  },
  {
   "cell_type": "code",
   "execution_count": null,
   "metadata": {},
   "outputs": [],
   "source": [
    "ANGLE = 225\n",
    "\n",
    "\n",
    "def rotate(matrix, angle):\n",
    "    image_size = (matrix.shape[1], matrix.shape[0])\n",
    "    image_center = tuple(np.array(image_size) / 2)\n",
    "\n",
    "    rotation_matrix = np.matrix(\n",
    "        np.vstack([cv.getRotationMatrix2D(image_center, angle, 1.0), [0, 0, 1]])\n",
    "    )\n",
    "    translation_matrix = np.matrix(np.identity(3))\n",
    "\n",
    "    w2 = image_size[0] * 0.5\n",
    "    h2 = image_size[1] * 0.5\n",
    "\n",
    "    rot_mat_notranslate = np.matrix(rotation_matrix[0:2, 0:2])\n",
    "\n",
    "    tl = (np.array([-w2, h2]) * rot_mat_notranslate).A[0]\n",
    "    tr = (np.array([w2, h2]) * rot_mat_notranslate).A[0]\n",
    "    bl = (np.array([-w2, -h2]) * rot_mat_notranslate).A[0]\n",
    "    br = (np.array([w2, -h2]) * rot_mat_notranslate).A[0]\n",
    "\n",
    "    x_coords = [pt[0] for pt in [tl, tr, bl, br]]\n",
    "    x_pos = [x for x in x_coords if x > 0]\n",
    "    x_neg = [x for x in x_coords if x < 0]\n",
    "\n",
    "    y_coords = [pt[1] for pt in [tl, tr, bl, br]]\n",
    "    y_pos = [y for y in y_coords if y > 0]\n",
    "    y_neg = [y for y in y_coords if y < 0]\n",
    "\n",
    "    right_bound = max(x_pos)\n",
    "    left_bound = min(x_neg)\n",
    "    top_bound = max(y_pos)\n",
    "    bot_bound = min(y_neg)\n",
    "\n",
    "    new_w = int(abs(right_bound - left_bound))\n",
    "    new_h = int(abs(top_bound - bot_bound))\n",
    "    new_image_size = (new_w, new_h)\n",
    "\n",
    "    new_midx = new_w * 0.5\n",
    "    new_midy = new_h * 0.5\n",
    "\n",
    "    dx = int(new_midx - w2)\n",
    "    dy = int(new_midy - h2)\n",
    "\n",
    "    translation_matrix = np.matrix(np.array([[1, 0, dx], [0, 1, dy], [0, 0, 1]]))\n",
    "    affine_mat = (np.matrix(translation_matrix) * rotation_matrix)[0:2, :]\n",
    "    result = cv.warpAffine(matrix, affine_mat, new_image_size, flags=cv.INTER_LINEAR)\n",
    "\n",
    "    return result\n",
    "\n",
    "\n",
    "rotated_normal_map_wrong = rotate(NORMAL_MAP_A_IMAGE, ANGLE)\n",
    "\n",
    "wrong_normals = (\n",
    "    (rotated_normal_map_wrong[:, :, :3].astype(np.float64) / 255) - 0.5\n",
    ") * 2\n",
    "\n",
    "\n",
    "def rotate_vector_field_normals(normals, angle):\n",
    "    rotated_normals = normals.copy()\n",
    "    rotated_normals[:, :, 0] = normals[:, :, 0] * cos(radians(angle))\n",
    "    rotated_normals[:, :, 0] -= normals[:, :, 1] * sin(radians(angle))\n",
    "    rotated_normals[:, :, 1] = normals[:, :, 0] * sin(radians(angle))\n",
    "    rotated_normals[:, :, 1] += normals[:, :, 1] * cos(radians(angle))\n",
    "    return rotated_normals\n",
    "\n",
    "\n",
    "rotated_normals = rotate_vector_field_normals(wrong_normals, ANGLE)\n",
    "rotated_normal_map = (((rotated_normals + 1) / 2) * 255).astype(np.uint8)\n",
    "\n",
    "figure, axes = plt.subplots(1, 3, figsize=figsize)\n",
    "axes[0].set_title(\"normal map\")\n",
    "_ = axes[0].imshow(NORMAL_MAP_A_IMAGE)\n",
    "axes[1].set_title(\"rotated normal map (wrong)\")\n",
    "_ = axes[1].imshow(rotated_normal_map_wrong)\n",
    "axes[2].set_title(\"rotated normal map (correct)\")\n",
    "_ = axes[2].imshow(rotated_normal_map)"
   ]
  },
  {
   "cell_type": "code",
   "execution_count": null,
   "metadata": {},
   "outputs": [],
   "source": [
    "def centered_crop(image: np.ndarray, target_resolution: Tuple[int, int]) -> np.ndarray:\n",
    "    return image[\n",
    "        (image.shape[0] - target_resolution[0])\n",
    "        // 2 : (image.shape[0] - target_resolution[0])\n",
    "        // 2\n",
    "        + target_resolution[0],\n",
    "        (image.shape[1] - target_resolution[1])\n",
    "        // 2 : (image.shape[1] - target_resolution[1])\n",
    "        // 2\n",
    "        + target_resolution[1],\n",
    "    ]"
   ]
  },
  {
   "cell_type": "code",
   "execution_count": null,
   "metadata": {},
   "outputs": [],
   "source": [
    "def integrate_vector_field(vector_field, target_iteration_count):\n",
    "    isotropic_height = np.zeros(vector_field.shape[:2])\n",
    "    angles = np.linspace(0, 90, target_iteration_count, endpoint=False)\n",
    "    iterations = len(angles)\n",
    "\n",
    "    for index, angle in enumerate(angles):\n",
    "        rotated_vector_field = rotate_vector_field_normals(\n",
    "            rotate(vector_field, angle), angle\n",
    "        )\n",
    "        left_gradients, top_gradients = calculate_gradients(rotated_vector_field)\n",
    "\n",
    "        left_heights, right_heights, top_heights, bottom_heights = calculate_heights(\n",
    "            left_gradients, top_gradients\n",
    "        )\n",
    "        combined_heights = combine_heights(\n",
    "            left_heights, right_heights, top_heights, bottom_heights\n",
    "        )\n",
    "        combined_heights = centered_crop(\n",
    "            rotate(combined_heights, -angle), isotropic_height.shape\n",
    "        )\n",
    "\n",
    "        isotropic_height += combined_heights / iterations\n",
    "\n",
    "    return isotropic_height\n",
    "\n",
    "\n",
    "figure, axes = plt.subplots(1, 4, figsize=(14, 6))\n",
    "normals = ((NORMAL_MAP_B_IMAGE[:, :, :3] / 255) - 0.5) * 2\n",
    "\n",
    "for index in range(4):\n",
    "    target_iteration_count = max(1, index * 5)\n",
    "    heights = integrate_vector_field(normals, target_iteration_count)\n",
    "    x, y = np.meshgrid(range(heights.shape[0]), range(heights.shape[1]))\n",
    "\n",
    "    axes[index].set_title(f\"target iteration count: {target_iteration_count}\")\n",
    "    _ = axes[index].imshow(heights)"
   ]
  },
  {
   "cell_type": "markdown",
   "metadata": {},
   "source": [
    "# Optimization"
   ]
  },
  {
   "cell_type": "markdown",
   "metadata": {},
   "source": [
    "# Example Usage"
   ]
  }
 ],
 "metadata": {
  "anaconda-cloud": {},
  "colab": {
   "collapsed_sections": [],
   "name": "map-test.ipynb",
   "provenance": []
  },
  "kernelspec": {
   "display_name": "Python 3.10.6 64-bit",
   "language": "python",
   "name": "python3"
  },
  "language_info": {
   "codemirror_mode": {
    "name": "ipython",
    "version": 3
   },
   "file_extension": ".py",
   "mimetype": "text/x-python",
   "name": "python",
   "nbconvert_exporter": "python",
   "pygments_lexer": "ipython3",
   "version": "3.10.6"
  },
  "vscode": {
   "interpreter": {
    "hash": "916dbcbb3f70747c44a77c7bcd40155683ae19c65e1c03b4aa3499c5328201f1"
   }
  }
 },
 "nbformat": 4,
 "nbformat_minor": 0
}
