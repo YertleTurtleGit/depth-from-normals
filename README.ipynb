{
 "cells": [
  {
   "cell_type": "markdown",
   "metadata": {},
   "source": [
    "# Depth Mapping from Normal Mapping with Averaged Integrals from Rotated Discrete Origin Functions\n"
   ]
  },
  {
   "cell_type": "markdown",
   "metadata": {},
   "source": [
    "This algorithm estimates a 3d integral with the normal mapping. First the directional gradients of the normals in x- and y-direction are calculated. They are then used to calculate the integrated values by a cumulative sum (Riemann sum). This process is repeated with differently rotated versions of the gradient mapping to average the values and reduce errors as a cumulative sum alone is very prone for subsequent errors.\n"
   ]
  },
  {
   "cell_type": "code",
   "execution_count": 13,
   "metadata": {
    "execution": {
     "iopub.execute_input": "2022-03-21T08:04:05.280324Z",
     "iopub.status.busy": "2022-03-21T08:04:05.279926Z",
     "iopub.status.idle": "2022-03-21T08:04:05.287018Z",
     "shell.execute_reply": "2022-03-21T08:04:05.286531Z"
    }
   },
   "outputs": [],
   "source": [
    "# @title Settings\n",
    "NORMAL_MAP_PATH: str = \"https://raw.githubusercontent.com/YertleTurtleGit/depth-from-normals/main/normal_mapping.png\"  # @param {type: \"string\"}\n",
    "NORMAL_MAP_IS_OPEN_GL: bool = True  # @param {type: \"boolean\"}\n",
    "TARGET_ITERATION_COUNT: int = 1000\n",
    "MAX_THREAD_COUNT: int = 4  # @param {type: \"integer\"}\n",
    "DEPTH_MAP_PATH: str = \"depth_mapping.png\"  # @param {type: \"string\"}\n"
   ]
  },
  {
   "cell_type": "markdown",
   "metadata": {
    "id": "5VrhtlvFNVE6"
   },
   "source": [
    "## Imports\n"
   ]
  },
  {
   "cell_type": "code",
   "execution_count": 14,
   "metadata": {
    "execution": {
     "iopub.execute_input": "2022-03-21T08:04:05.289303Z",
     "iopub.status.busy": "2022-03-21T08:04:05.289164Z",
     "iopub.status.idle": "2022-03-21T08:04:19.591044Z",
     "shell.execute_reply": "2022-03-21T08:04:19.590486Z"
    },
    "id": "qJM0ecFCGW7m"
   },
   "outputs": [],
   "source": [
    "import numpy as np\n",
    "import cv2 as cv\n",
    "from scipy.integrate import cumulative_trapezoid\n",
    "from skimage import io\n",
    "from math import sin, cos, radians\n",
    "from threading import Thread, Lock\n",
    "from typing import List\n",
    "from matplotlib import pyplot as plt\n"
   ]
  },
  {
   "cell_type": "code",
   "execution_count": 15,
   "metadata": {
    "execution": {
     "iopub.execute_input": "2022-03-21T08:04:19.593769Z",
     "iopub.status.busy": "2022-03-21T08:04:19.593613Z",
     "iopub.status.idle": "2022-03-21T08:04:19.635319Z",
     "shell.execute_reply": "2022-03-21T08:04:19.634803Z"
    }
   },
   "outputs": [],
   "source": [
    "def estimate_depth_map(\n",
    "    normal_map_uri: str,\n",
    "    normal_map_is_open_gl: bool = True,\n",
    "    target_iteration_count: int = 1000,\n",
    "    max_thread_count: int = 1,\n",
    ") -> np.ndarray:\n",
    "    \"\"\"Estimates a depth mapping from a given normal mapping.\n",
    "\n",
    "    Parameters\n",
    "    ----------\n",
    "    normal_map_path : str\n",
    "        The URI or simple file path to the normal mapping.\n",
    "    normal_map_is_open_gl : bool, optional\n",
    "        Set to `False` if the normal map is in DirectX format with flipped green/y channel, by default `True`.\n",
    "    target_iteration_count : int, optional\n",
    "        The target iteration count of the depth mapping defined how many iterations of integrations are performed, by default `1`.\n",
    "    max_thread_count : int, optional\n",
    "        The maximum number of threads used to calculate the depth mapping, by default `1`.\n",
    "\n",
    "    Returns\n",
    "    -------\n",
    "    np.ndarray\n",
    "        The depth mapping as image array.\n",
    "    \"\"\"\n",
    "\n",
    "    normal_map = io.imread(normal_map_uri).astype(np.float64)\n",
    "    width, height, _ = normal_map.shape\n",
    "    normal_map = normal_map[:, :, :3]  # Remove alpha channel if present.\n",
    "    normal_map = ((normal_map / 255) - 0.5) * 2  # Transform from [0, 255] to [-1, 1].\n",
    "    if not normal_map_is_open_gl:\n",
    "        normal_map[:, :, 1] *= -1  # Invert green/y channel if not OpenGL.\n",
    "\n",
    "    gradient_map = np.empty((width, height, 2))\n",
    "    gradient_map[:, :, 0] = -normal_map[:, :, 0] / normal_map[:, :, 2]\n",
    "    gradient_map[:, :, 1] = normal_map[:, :, 1] / normal_map[:, :, 2]\n",
    "\n",
    "    isotropic_integral = np.zeros((width, height))\n",
    "    isotropic_integral_lock: Lock = Lock()\n",
    "\n",
    "    def rotate(image: np.ndarray, angle: float, resize: bool = True) -> np.ndarray:\n",
    "        from math import sqrt, ceil\n",
    "        from cv2 import getRotationMatrix2D, warpAffine\n",
    "\n",
    "        height, width = image.shape[:2]\n",
    "        new_height: int = height\n",
    "        new_width: int = width\n",
    "\n",
    "        if resize:\n",
    "            # TODO optimize new resolution\n",
    "            image_diagonal_length: int = ceil(sqrt(height**2 + width**2))\n",
    "            new_height = image_diagonal_length\n",
    "            new_width = image_diagonal_length\n",
    "\n",
    "        rotation_image = np.zeros((new_height, new_width))\n",
    "\n",
    "        if resize:\n",
    "            rotation_image[\n",
    "                (new_height - height) // 2 : (new_height + height) // 2,\n",
    "                (new_width - width) // 2 : (new_width + width) // 2,\n",
    "            ] = image\n",
    "        else:\n",
    "            rotation_image = image\n",
    "\n",
    "        rotation_matrix = getRotationMatrix2D(\n",
    "            (new_width // 2, new_height // 2), angle, 1\n",
    "        )\n",
    "        return warpAffine(rotation_image, rotation_matrix, rotation_image.shape)\n",
    "\n",
    "    def integrate_anisotropic(angles: List[float]):\n",
    "\n",
    "        for angle in angles:\n",
    "\n",
    "            anisotropic_gradient_map = rotate(\n",
    "                gradient_map[:, :, 0] * cos(radians(angle))\n",
    "                + gradient_map[:, :, 1] * sin(radians(angle)),\n",
    "                angle,\n",
    "            ).astype(np.float64)\n",
    "\n",
    "            anisotropic_integral = rotate(\n",
    "                cumulative_trapezoid(anisotropic_gradient_map),\n",
    "                -angle,\n",
    "            ).astype(np.float64)\n",
    "\n",
    "            top_crop: int = (anisotropic_integral.shape[0] - height) // 2\n",
    "            left_crop: int = (anisotropic_integral.shape[1] - width) // 2\n",
    "            anisotropic_integral = anisotropic_integral[\n",
    "                top_crop : top_crop + height,\n",
    "                left_crop : left_crop + width,\n",
    "            ]\n",
    "\n",
    "            isotropic_integral_lock.acquire()\n",
    "            nonlocal isotropic_integral\n",
    "            isotropic_integral += anisotropic_integral\n",
    "            isotropic_integral_lock.release()\n",
    "\n",
    "    max_thread_count = max(max_thread_count, 1)\n",
    "    anisotropic_integral_threads: List[Thread] = []\n",
    "    angle_per_thread: float = 360 / max_thread_count\n",
    "    iterations_per_thread: int = max(\n",
    "        round(target_iteration_count / max_thread_count), 1\n",
    "    )\n",
    "\n",
    "    for thread_id in range(0, max_thread_count):\n",
    "        angle_start_point: float = thread_id * angle_per_thread\n",
    "        angle_stop_point: float = (thread_id + 1) * angle_per_thread\n",
    "\n",
    "        angles = np.linspace(\n",
    "            angle_start_point,\n",
    "            angle_stop_point,\n",
    "            iterations_per_thread,\n",
    "            endpoint=False,\n",
    "        )\n",
    "\n",
    "        thread = Thread(target=integrate_anisotropic, args=(angles,))\n",
    "        thread.start()\n",
    "        anisotropic_integral_threads.append(thread)\n",
    "\n",
    "    for thread in anisotropic_integral_threads:\n",
    "        thread.join()\n",
    "\n",
    "    depth_map = isotropic_integral\n",
    "\n",
    "    # Normalizes depth values to [0, 1].\n",
    "    depth_map -= np.min(depth_map)\n",
    "    depth_map /= np.max(depth_map)\n",
    "\n",
    "    depth_map *= 255  # Transform from [0, 1] to [0, 255].\n",
    "\n",
    "    return depth_map\n"
   ]
  },
  {
   "cell_type": "markdown",
   "metadata": {},
   "source": [
    "## Example usage\n"
   ]
  },
  {
   "cell_type": "code",
   "execution_count": 16,
   "metadata": {
    "execution": {
     "iopub.execute_input": "2022-03-21T08:04:19.637533Z",
     "iopub.status.busy": "2022-03-21T08:04:19.637390Z",
     "iopub.status.idle": "2022-03-21T08:04:21.129930Z",
     "shell.execute_reply": "2022-03-21T08:04:21.129503Z"
    }
   },
   "outputs": [
    {
     "data": {
      "text/plain": [
       "<matplotlib.image.AxesImage at 0x7f8b9d629db0>"
      ]
     },
     "execution_count": 16,
     "metadata": {},
     "output_type": "execute_result"
    },
    {
     "data": {
      "image/png": "[encoded data removed]",
      "text/plain": [
       "<Figure size 432x288 with 1 Axes>"
      ]
     },
     "metadata": {
      "needs_background": "light"
     },
     "output_type": "display_data"
    }
   ],
   "source": [
    "depth_map_image: np.ndarray = estimate_depth_map(\n",
    "    NORMAL_MAP_PATH,\n",
    "    normal_map_is_open_gl=NORMAL_MAP_IS_OPEN_GL,\n",
    "    target_iteration_count=TARGET_ITERATION_COUNT,\n",
    "    max_thread_count=MAX_THREAD_COUNT,\n",
    ")\n",
    "\n",
    "cv.imwrite(DEPTH_MAP_PATH, depth_map_image)\n",
    "plt.imshow(depth_map_image, cmap=\"gray\")\n"
   ]
  }
 ],
 "metadata": {
  "anaconda-cloud": {},
  "colab": {
   "collapsed_sections": [],
   "name": "map-test.ipynb",
   "provenance": []
  },
  "kernelspec": {
   "display_name": "Python 3.10.6 64-bit",
   "language": "python",
   "name": "python3"
  },
  "language_info": {
   "codemirror_mode": {
    "name": "ipython",
    "version": 3
   },
   "file_extension": ".py",
   "mimetype": "text/x-python",
   "name": "python",
   "nbconvert_exporter": "python",
   "pygments_lexer": "ipython3",
   "version": "3.10.6"
  },
  "vscode": {
   "interpreter": {
    "hash": "916dbcbb3f70747c44a77c7bcd40155683ae19c65e1c03b4aa3499c5328201f1"
   }
  }
 },
 "nbformat": 4,
 "nbformat_minor": 0
}
