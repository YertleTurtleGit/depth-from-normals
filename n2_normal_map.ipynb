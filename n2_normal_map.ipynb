{
 "cells": [
  {
   "cell_type": "markdown",
   "metadata": {},
   "source": [
    "# Normal Mapping from Differently Lit Images with Photometric Stereo"
   ]
  },
  {
   "cell_type": "markdown",
   "metadata": {},
   "source": [
    "This method uses the 'photometric method for determining surface orientation from multiple images' proposed in the correspondent paper [1]. It supplies an option to make the result more robust against outliers often caused by non-polarized light [2].\n",
    "\n",
    "* [1] Woodham, Robert J. \"Photometric method for determining surface orientation from multiple images.\" Optical engineering 19.1 (1980): 139-144.\n",
    "* [2] Wu, Lun, et al. \"Robust photometric stereo via low-rank matrix completion and recovery.\" Asian Conference on Computer Vision. Springer, Berlin, Heidelberg, 2010."
   ]
  },
  {
   "cell_type": "code",
   "execution_count": 1,
   "metadata": {
    "execution": {
     "iopub.execute_input": "2022-02-28T10:07:07.223421Z",
     "iopub.status.busy": "2022-02-28T10:07:07.223208Z",
     "iopub.status.idle": "2022-02-28T10:07:08.173934Z",
     "shell.execute_reply": "2022-02-28T10:07:08.173419Z"
    }
   },
   "outputs": [],
   "source": [
    "from typing import List\n",
    "from logging import warning\n",
    "import numpy as np\n",
    "import cv2 as cv\n",
    "from sklearn.preprocessing import normalize\n",
    "from matplotlib import pyplot as plt\n",
    "from skimage import io\n"
   ]
  },
  {
   "cell_type": "code",
   "execution_count": 2,
   "metadata": {
    "execution": {
     "iopub.execute_input": "2022-02-28T10:07:08.176807Z",
     "iopub.status.busy": "2022-02-28T10:07:08.176627Z",
     "iopub.status.idle": "2022-02-28T10:07:08.180659Z",
     "shell.execute_reply": "2022-02-28T10:07:08.180166Z"
    }
   },
   "outputs": [],
   "source": [
    "IS_NOTEBOOK: bool = True  # @param {type: \"boolean\"}\n",
    "NORMAL_MAP_FILE_NAME: str = \"normal.png\"  # @param {type: \"string\"}\n",
    "\n",
    "PATH_PREFIX: str = (\n",
    "    \"https://raw.githubusercontent.com/YertleTurtleGit/photometric-stereo-mappings/main/test_dataset/\"\n",
    "    if IS_NOTEBOOK\n",
    "    else \"./../test_dataset/\"\n",
    ")\n",
    "\n",
    "LIGHT_IMAGE_PATHS: List[str] = [\n",
    "    PATH_PREFIX + str(index) + \".png\" for index in range(1, 8 + 1)\n",
    "]\n",
    "MASK_PATH = PATH_PREFIX + \"output/opacity.png\"\n",
    "OUTPUT_PATH = None if IS_NOTEBOOK else PATH_PREFIX + \"output/\" + NORMAL_MAP_FILE_NAME\n"
   ]
  },
  {
   "cell_type": "code",
   "execution_count": 3,
   "metadata": {
    "execution": {
     "iopub.execute_input": "2022-02-28T10:07:08.182814Z",
     "iopub.status.busy": "2022-02-28T10:07:08.182603Z",
     "iopub.status.idle": "2022-02-28T10:07:08.190690Z",
     "shell.execute_reply": "2022-02-28T10:07:08.190226Z"
    }
   },
   "outputs": [],
   "source": [
    "def _read_image(\n",
    "    image_path: str, color: bool = True, target_dtype: np.dtype = np.dtype(\"float64\")\n",
    ") -> np.ndarray:\n",
    "    \"\"\"Reads an image from URI and converts it to an array with specified bit depth.\n",
    "\n",
    "    Args:\n",
    "        image_path (str): The path to the image file.\n",
    "        color (bool, optional): Read image as color image. Defaults to True.\n",
    "        target_dtype (np.dtype, optional): The target bit depth. Defaults to np.dtype(\"float64\").\n",
    "\n",
    "    Returns:\n",
    "        np.ndarray: The output array with shape (w,h,3) for color or (w,h) for grayscale images.\n",
    "    \"\"\"\n",
    "    image = io.imread(image_path)\n",
    "    image_dtype: np.dtype = image.dtype\n",
    "    image = image.astype(target_dtype)\n",
    "\n",
    "    if image_dtype == np.dtype(\"uint8\"):\n",
    "        image /= pow(2, 8) - 1\n",
    "    elif image_dtype == np.dtype(\"uint16\"):\n",
    "        image /= pow(2, 16) - 1\n",
    "    elif image_dtype == np.dtype(\"uint32\"):\n",
    "        image /= pow(2, 32) - 1\n",
    "\n",
    "    if color:\n",
    "        if len(image.shape) == 3:\n",
    "            return image\n",
    "        elif len(image.shape) == 2:\n",
    "            return np.array([image, image, image])\n",
    "        elif len(image.shape) == 4:\n",
    "            return np.array([image[:, :, 0], image[:, :, 1], image[:, :, 2]])\n",
    "        else:\n",
    "            warning(\n",
    "                \"Image channel count of \"\n",
    "                + str(len(image.shape))\n",
    "                + \" with shape \"\n",
    "                + str(image.shape)\n",
    "                + \" is unknown: \"\n",
    "                + image_path\n",
    "            )\n",
    "    else:\n",
    "        if len(image.shape) == 2:\n",
    "            return image\n",
    "        elif len(image.shape) == 3 or len(image.shape) == 4:\n",
    "            return (image[:, :, 0] + image[:, :, 1] + image[:, :, 2]) / 3\n",
    "        else:\n",
    "            warning(\n",
    "                \"Image channel count of \"\n",
    "                + str(len(image.shape))\n",
    "                + \" with shape \"\n",
    "                + str(image.shape)\n",
    "                + \" is unknown: \"\n",
    "                + image_path\n",
    "            )\n",
    "\n",
    "    return image"
   ]
  },
  {
   "cell_type": "code",
   "execution_count": 4,
   "metadata": {
    "execution": {
     "iopub.execute_input": "2022-02-28T10:07:08.192903Z",
     "iopub.status.busy": "2022-02-28T10:07:08.192692Z",
     "iopub.status.idle": "2022-02-28T10:07:08.200240Z",
     "shell.execute_reply": "2022-02-28T10:07:08.199654Z"
    }
   },
   "outputs": [],
   "source": [
    "def _rpca_inexact_alm(D, lambda_=None, max_ite=1000, tol=1.0e-6):\n",
    "    if D.ndim != 2:\n",
    "        raise ValueError(\"Input matrix D needs to be a matrix.\")\n",
    "\n",
    "    (m, n) = D.shape\n",
    "    if lambda_ is None:\n",
    "        lambda_ = 1.0 / np.sqrt(max(m, n))\n",
    "\n",
    "    Y = D\n",
    "    norm_two = np.linalg.svd(Y, full_matrices=False, compute_uv=False)[0]\n",
    "    norm_inf = np.max(np.abs(Y[:])) / lambda_\n",
    "    dual_norm = max(norm_two, norm_inf)\n",
    "    Y = Y / dual_norm\n",
    "\n",
    "    A = np.zeros((m, n))\n",
    "    E = np.zeros((m, n))\n",
    "    mu = 1.25 / norm_two  # This can be tuned\n",
    "    MU_MAXIMUM = mu * 1e7\n",
    "    RHO = 1.5  # This can be tuned\n",
    "    D_NORM = np.linalg.norm(D, \"fro\")\n",
    "    ite = 0\n",
    "    sv = 10  # This can be tuned\n",
    "\n",
    "    while ite < max_ite:\n",
    "        ite += 1\n",
    "        T = D - A + (1 / mu) * Y\n",
    "        E = np.maximum(T - lambda_ / mu, 0.0)\n",
    "        E = E + np.minimum(T + lambda_ / mu, 0.0)\n",
    "        U, S, V = np.linalg.svd(D - E + (1.0 / mu) * Y, full_matrices=False)\n",
    "        svp = len(S[S > 1.0 / mu])\n",
    "        if svp < sv:\n",
    "            sv = min(svp + 1, n)\n",
    "        else:\n",
    "            sv = min(svp + round(0.05 * n), n)\n",
    "        A = U[:, 0:svp].dot(np.diag(S[0:svp] - 1.0 / mu)).dot((V[0:svp, :]))\n",
    "        Z = D - A - E\n",
    "        Y = Y + mu * Z\n",
    "        mu = min(mu * RHO, MU_MAXIMUM)\n",
    "        stop_criterion = np.linalg.norm(Z, \"fro\") / D_NORM\n",
    "        if stop_criterion < tol:\n",
    "            return A, E, ite\n",
    "\n",
    "    warning(\"Exceeded the maximum number of iterations.\")\n",
    "    return A, E, ite\n"
   ]
  },
  {
   "cell_type": "code",
   "execution_count": 5,
   "metadata": {
    "execution": {
     "iopub.execute_input": "2022-02-28T10:07:08.202571Z",
     "iopub.status.busy": "2022-02-28T10:07:08.202286Z",
     "iopub.status.idle": "2022-02-28T10:07:08.212503Z",
     "shell.execute_reply": "2022-02-28T10:07:08.212005Z"
    }
   },
   "outputs": [],
   "source": [
    "def normal_map(\n",
    "    light_images_paths: List[str],\n",
    "    output_path: str = None,\n",
    "    mask_path: str = None,\n",
    "    open_gl: bool = True,\n",
    "    pseudo_compress: bool = True,\n",
    "    robust_lagrangian: bool = False,\n",
    "    light_positions: np.ndarray = np.array(\n",
    "        [\n",
    "            [-0.389346, 0.0836132, 0.917289],\n",
    "            [-0.347731, -0.173368, 0.921427],\n",
    "            [-0.130761, -0.350568, 0.927364],\n",
    "            [0.146212, -0.331608, 0.932018],\n",
    "            [0.344156, -0.137129, 0.928845],\n",
    "            [0.319508, 0.200581, 0.926111],\n",
    "            [0.0570113, 0.391984, 0.918204],\n",
    "            [-0.240954, 0.327253, 0.913699],\n",
    "        ]\n",
    "    ),\n",
    ") -> np.ndarray:\n",
    "    \"\"\"Computes and saves the normal mapping. Photometric stereo normal mapping.\n",
    "    Woodham, Robert J. \"Photometric method for determining surface orientation from multiple images.\"\n",
    "    Optical engineering 19.1 (1980): 139-144.\n",
    "    Args:\n",
    "        light_images_paths (List[str]): Paths to the light images.\n",
    "        output_path (str, optional): Path where the output image file should be saved.\n",
    "        mask (str, optional): Path of the mask that gets applied on the normal map.\n",
    "        open_gl (bool, optional): Inverts the y-/green-channel before normalization. Defaults to True.\n",
    "        pseudo_compress (bool, optional): Normal map compressing with (n+1)/2. Defaults to True.\n",
    "        robust_lagrangian (bool, optional): More robust against reflections and other errors that arise mainly when using non-polarized light sources.\n",
    "                                            Wu, Lun, et al. \"Robust photometric stereo via low-rank matrix completion and recovery.\"\n",
    "                                            Asian Conference on Computer Vision. Springer, Berlin, Heidelberg, 2010.\n",
    "                                            Defaults to False.\n",
    "        light_positions (np.ndarray, optional): The light position matrix in Cartesian coordinates.\n",
    "                                                Defaults to np.array( [ [-0.389346, 0.0836132, 0.917289],\n",
    "                                                                        [-0.347731, -0.173368, 0.921427],\n",
    "                                                                        [-0.130761, -0.350568, 0.927364],\n",
    "                                                                        [0.146212, -0.331608, 0.932018],\n",
    "                                                                        [0.344156, -0.137129, 0.928845],\n",
    "                                                                        [0.319508, 0.200581, 0.926111],\n",
    "                                                                        [0.0570113, 0.391984, 0.918204],\n",
    "                                                                        [-0.240954, 0.327253, 0.913699], ] ).\n",
    "    \"\"\"\n",
    "    L = light_positions.T\n",
    "    M = None\n",
    "    height = 0\n",
    "    width = 0\n",
    "\n",
    "    # loading light images\n",
    "    for fname in light_images_paths:\n",
    "        im = _read_image(fname, color=False)\n",
    "        if M is None:\n",
    "            height, width = im.shape\n",
    "            M = im.reshape((-1, 1))\n",
    "        else:\n",
    "            M = np.append(M, im.reshape((-1, 1)), axis=1)\n",
    "\n",
    "    A = M.T\n",
    "    if robust_lagrangian:\n",
    "        # calculate robust matrices\n",
    "        A, _, _ = _rpca_inexact_alm(A)  # RPCA Photometric stereo\n",
    "\n",
    "    # calculate least squares\n",
    "    N = np.linalg.lstsq(L.T, A, rcond=None)[0].T\n",
    "    N = normalize(N)\n",
    "    # N_lengths = np.sqrt(N[:,0]*N[:,0] + N[:,1]*N[:,1] + N[:,2]*N[:,2])\n",
    "    # N[:,0][N_lengths != 0] /= N_lengths[N_lengths != 0]\n",
    "    # N[:,1][N_lengths != 0] /= N_lengths[N_lengths != 0]\n",
    "    # N[:,2][N_lengths != 0] /= N_lengths[N_lengths != 0]\n",
    "\n",
    "    # vector field to mapping image\n",
    "\n",
    "    if open_gl:\n",
    "        N[:, 1] *= -1\n",
    "\n",
    "    N = N * 0.5 + 0.5  # transforms from [-1,1] to [0,1]\n",
    "\n",
    "    # TODO Implement pseudo compression.\n",
    "    # if pseudo_compress:\n",
    "    # N /= 2\n",
    "    # N += 1\n",
    "\n",
    "    print(np.min(N))\n",
    "    print(np.max(N))\n",
    "\n",
    "    if robust_lagrangian:\n",
    "        normal_map = np.zeros((M.shape[0], 3))\n",
    "        for i in range(normal_map.shape[1]):\n",
    "            normal_map[:, :] = N[:, :]\n",
    "    else:\n",
    "        normal_map = np.reshape(N, (M.shape[0], 3))\n",
    "\n",
    "    normal_map = np.reshape(normal_map, (height, width, 3))\n",
    "\n",
    "    if mask_path:\n",
    "        mask_image = _read_image(mask_path, color=False)\n",
    "        kernel = np.ones((7, 7), np.uint8)\n",
    "        mask_image = cv.erode(mask_image, kernel)\n",
    "        normal_map[mask_image == 0] = (0, 0, 0)\n",
    "\n",
    "    if output_path:\n",
    "        cv.imwrite(\n",
    "            output_path,\n",
    "            cv.cvtColor(\n",
    "                np.clip(normal_map * 255, 0, 255).astype(\"uint8\"), cv.COLOR_BGR2RGB\n",
    "            ),\n",
    "        )\n",
    "    else:\n",
    "        plt.imshow(normal_map)\n",
    "\n",
    "    return normal_map\n"
   ]
  },
  {
   "cell_type": "code",
   "execution_count": 6,
   "metadata": {
    "execution": {
     "iopub.execute_input": "2022-02-28T10:07:08.214630Z",
     "iopub.status.busy": "2022-02-28T10:07:08.214410Z",
     "iopub.status.idle": "2022-02-28T10:07:09.568750Z",
     "shell.execute_reply": "2022-02-28T10:07:09.568213Z"
    }
   },
   "outputs": [
    {
     "name": "stdout",
     "output_type": "stream",
     "text": [
      "0.027057047278914892\n",
      "0.999999961720472\n"
     ]
    },
    {
     "data": {
      "image/png": "[encoded data removed]",
      "text/plain": [
       "<Figure size 432x288 with 1 Axes>"
      ]
     },
     "metadata": {
      "needs_background": "light"
     },
     "output_type": "display_data"
    }
   ],
   "source": [
    "if __name__ == \"__main__\":\n",
    "    normal_map(LIGHT_IMAGE_PATHS, OUTPUT_PATH, MASK_PATH)\n"
   ]
  }
 ],
 "metadata": {
  "interpreter": {
   "hash": "9fb47bfb27aa80605ee8bc9c35db619ba1a83d93aaa1ab9d0d517b5218a2e478"
  },
  "kernelspec": {
   "display_name": "Python 3.8.10 ('.venv')",
   "language": "python",
   "name": "python3"
  },
  "language_info": {
   "codemirror_mode": {
    "name": "ipython",
    "version": 3
   },
   "file_extension": ".py",
   "mimetype": "text/x-python",
   "name": "python",
   "nbconvert_exporter": "python",
   "pygments_lexer": "ipython3",
   "version": "3.8.10"
  }
 },
 "nbformat": 4,
 "nbformat_minor": 2
}
