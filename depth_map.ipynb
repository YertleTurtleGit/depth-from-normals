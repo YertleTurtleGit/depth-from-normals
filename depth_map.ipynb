{
 "cells": [
  {
   "cell_type": "markdown",
   "metadata": {},
   "source": [
    "# Depth Mapping from Normal Mapping with Averaged Integrals from Rotated Discrete Origin Functions"
   ]
  },
  {
   "cell_type": "markdown",
   "metadata": {},
   "source": [
    "This algorithm estimates a 3d integral with the normal mapping. First the directional gradients of the normals in x- and y-direction are calculated. They are then used to calculate the integrated values by a cumulative sum (Riemann sum). This process is repeated with differently rotated versions of the gradient mapping to average the values and reduce errors as a cumulative sum alone is very prone for subsequent errors."
   ]
  },
  {
   "cell_type": "markdown",
   "metadata": {
    "id": "5VrhtlvFNVE6"
   },
   "source": [
    "## Imports\n"
   ]
  },
  {
   "cell_type": "code",
   "execution_count": null,
   "metadata": {
    "execution": {
     "iopub.execute_input": "2022-03-18T10:57:54.905136Z",
     "iopub.status.busy": "2022-03-18T10:57:54.904731Z",
     "iopub.status.idle": "2022-03-18T10:57:58.396266Z",
     "shell.execute_reply": "2022-03-18T10:57:58.395528Z"
    },
    "id": "qJM0ecFCGW7m"
   },
   "outputs": [],
   "source": [
    "import numpy as np\n",
    "import cv2 as cv\n",
    "from scipy.ndimage import rotate\n",
    "from skimage import io\n",
    "from math import sin, cos, radians, sqrt, ceil, floor\n",
    "from threading import Thread, Lock\n",
    "from typing import List, Tuple\n",
    "from matplotlib import pyplot as plt\n"
   ]
  },
  {
   "cell_type": "markdown",
   "metadata": {},
   "source": [
    "$ \\displaystyle\n",
    "\\int f(x,y) \\approx \\sum_{\\theta = 0}^{2\\pi} R_{z(-\\theta)} \\cdot \\sum_{x=0}^{x_{max}} f(x, y) \\cdot R_{z(\\theta)}\n",
    "$"
   ]
  },
  {
   "cell_type": "code",
   "execution_count": null,
   "metadata": {
    "execution": {
     "iopub.execute_input": "2022-03-18T10:57:58.400924Z",
     "iopub.status.busy": "2022-03-18T10:57:58.400696Z",
     "iopub.status.idle": "2022-03-18T10:57:58.475206Z",
     "shell.execute_reply": "2022-03-18T10:57:58.474592Z"
    }
   },
   "outputs": [],
   "source": [
    "def estimate_depth_map(\n",
    "    normal_map_path: str,\n",
    "    normal_map_is_open_gl: bool = True,\n",
    "    target_quality_percent: float = 1,\n",
    "    max_thread_count: int = 1,\n",
    ") -> np.ndarray:\n",
    "\n",
    "    normal_map = io.imread(normal_map_path)\n",
    "\n",
    "    # Remove alpha channel if exists.\n",
    "    normal_map = normal_map[:, :, :3]\n",
    "\n",
    "    width, height, _ = normal_map.shape\n",
    "\n",
    "    # Transforms from [0, 255] to [-1,1].\n",
    "    normal_map = normal_map.astype(np.float64)\n",
    "    normal_map = ((normal_map / 255) - 0.5) * 2\n",
    "    normals = normal_map.reshape((width * height, 3))\n",
    "\n",
    "    if not normal_map_is_open_gl:\n",
    "        normals[:, 1] *= -1\n",
    "\n",
    "    # Normalize the normals in case they aren't already.\n",
    "    normals /= np.linalg.norm(normals)\n",
    "\n",
    "    gradient_map = np.empty((width, height, 2))\n",
    "    gradient_map[:, :, 0] = (normals[:, 0] / normals[:, 2]).reshape((width, height))\n",
    "    gradient_map[:, :, 1] = (normals[:, 1] / normals[:, 2]).reshape((width, height))\n",
    "    gradient_map[:, :, 0] *= -1\n",
    "\n",
    "    diagonal_length: int = ceil(sqrt(width**2 + height**2))\n",
    "\n",
    "    padding = (\n",
    "        ceil((diagonal_length - width) / 2),\n",
    "        ceil((diagonal_length - height) / 2),\n",
    "    )\n",
    "    gradient_map = np.pad(\n",
    "        gradient_map, (padding, padding, (0, 0)), constant_values=(0, 0)\n",
    "    )\n",
    "    gradient_map = gradient_map[\n",
    "        gradient_map.shape[0] - diagonal_length :,\n",
    "        gradient_map.shape[1] - diagonal_length :,\n",
    "        :,\n",
    "    ]\n",
    "\n",
    "    isotropic_integral = np.zeros((diagonal_length, diagonal_length))\n",
    "    isotropic_integral_lock: Lock = Lock()\n",
    "\n",
    "    def integrate_anisotropic(angles: List[float]):\n",
    "        for angle in angles:\n",
    "\n",
    "            x_factor: float = cos(radians(angle))\n",
    "            y_factor: float = sin(radians(angle))\n",
    "\n",
    "            factor_norm: float = abs(x_factor) + abs(y_factor)\n",
    "            x_factor /= factor_norm\n",
    "            y_factor /= factor_norm\n",
    "\n",
    "            anisotropic_gradient_map = rotate(\n",
    "                gradient_map[:, :, 0] * x_factor + gradient_map[:, :, 1] * y_factor,\n",
    "                angle,\n",
    "                reshape=False,\n",
    "            )\n",
    "\n",
    "            anisotropic_integral = rotate(\n",
    "                np.cumsum(anisotropic_gradient_map, axis=1),\n",
    "                -angle,\n",
    "                reshape=False,\n",
    "            )\n",
    "\n",
    "            isotropic_integral_lock.acquire()\n",
    "            isotropic_integral[~np.isnan(anisotropic_integral)] += anisotropic_integral[\n",
    "                ~np.isnan(anisotropic_integral)\n",
    "            ]\n",
    "            isotropic_integral_lock.release()\n",
    "\n",
    "    max_thread_count = max(max_thread_count, 1)\n",
    "    target_quality_percent = min(target_quality_percent, 100)\n",
    "    target_iteration_count: float = (width * 2 + height * 2) * (\n",
    "        target_quality_percent / 100\n",
    "    )\n",
    "    target_iteration_count = max(target_iteration_count, 1)\n",
    "    anisotropic_integral_threads: List[Thread] = []\n",
    "    angle_per_thread: float = 360 / max_thread_count\n",
    "    iterations_per_thread: int = max(\n",
    "        round(target_iteration_count / max_thread_count), 1\n",
    "    )\n",
    "\n",
    "    for thread_id in range(0, max_thread_count + 1):\n",
    "        angle_start_point: float = thread_id * angle_per_thread\n",
    "        angle_stop_point: float = (thread_id + 1) * angle_per_thread\n",
    "\n",
    "        angles = np.linspace(\n",
    "            angle_start_point,\n",
    "            angle_stop_point,\n",
    "            iterations_per_thread,\n",
    "            endpoint=False,\n",
    "        )\n",
    "\n",
    "        thread = Thread(target=integrate_anisotropic, args=(angles,))\n",
    "        thread.start()\n",
    "        anisotropic_integral_threads.append(thread)\n",
    "\n",
    "    for thread in anisotropic_integral_threads:\n",
    "        thread.join()\n",
    "\n",
    "    depth_map = isotropic_integral[\n",
    "        floor((diagonal_length - width) / 2) : floor((diagonal_length + width) / 2),\n",
    "        floor((diagonal_length - height) / 2) : floor((diagonal_length + height) / 2),\n",
    "    ]\n",
    "\n",
    "    # Normalizes depth values to [0, 1].\n",
    "    depth_map -= np.min(depth_map)\n",
    "    depth_map /= np.max(depth_map)\n",
    "\n",
    "    depth_map *= pow(2, 8) - 1\n",
    "\n",
    "    return depth_map\n"
   ]
  },
  {
   "cell_type": "markdown",
   "metadata": {},
   "source": [
    "## Example usage"
   ]
  },
  {
   "cell_type": "code",
   "execution_count": null,
   "metadata": {
    "execution": {
     "iopub.execute_input": "2022-03-18T10:57:58.478425Z",
     "iopub.status.busy": "2022-03-18T10:57:58.478071Z",
     "iopub.status.idle": "2022-03-18T10:57:59.023765Z",
     "shell.execute_reply": "2022-03-18T10:57:59.023117Z"
    }
   },
   "outputs": [],
   "source": [
    "NORMAL_MAP_PATH: str = (\n",
    "    \"https://raw.githubusercontent.com/YertleTurtleGit/depth-from-normals/main/normal_mapping.png\"\n",
    ")\n",
    "DEPTH_MAP_PATH: str = \"depth_mapping.png\"\n",
    "\n",
    "depth_map_image: np.ndarray = estimate_depth_map(\n",
    "    NORMAL_MAP_PATH,\n",
    "    normal_map_is_open_gl=True,\n",
    "    target_quality_percent=1,\n",
    "    max_thread_count=2,\n",
    ")\n",
    "\n",
    "#cv.imwrite(DEPTH_MAP_PATH, depth_map_image)\n",
    "plt.imshow(depth_map_image)\n"
   ]
  }
 ],
 "metadata": {
  "anaconda-cloud": {},
  "colab": {
   "collapsed_sections": [],
   "name": "map-test.ipynb",
   "provenance": []
  },
  "kernelspec": {
   "display_name": "Python 3",
   "language": "python",
   "name": "python3"
  },
  "language_info": {
   "codemirror_mode": {
    "name": "ipython",
    "version": 3
   },
   "file_extension": ".py",
   "mimetype": "text/x-python",
   "name": "python",
   "nbconvert_exporter": "python",
   "pygments_lexer": "ipython3",
   "version": "3.8.10"
  }
 },
 "nbformat": 4,
 "nbformat_minor": 0
}
