{
 "cells": [
  {
   "cell_type": "markdown",
   "metadata": {},
   "source": [
    "# Depth Mapping from Normal Mapping with Averaged Integrals from Rotated Discrete Origin Functions"
   ]
  },
  {
   "cell_type": "markdown",
   "metadata": {},
   "source": [
    "This algorithm estimates a 3d integral with the normal mapping. First the directional gradients of the normals in x- and y-direction are calculated. They are then used to calculate the integrated values by a cumulative sum (Riemann sum). This process is repeated with differently rotated versions of the gradient mapping to average the values and reduce errors as a cumulative sum alone is very prone for subsequent errors."
   ]
  },
  {
   "cell_type": "markdown",
   "metadata": {
    "id": "5VrhtlvFNVE6"
   },
   "source": [
    "## Imports\n"
   ]
  },
  {
   "cell_type": "code",
   "execution_count": 1,
   "metadata": {
    "execution": {
     "iopub.execute_input": "2022-03-13T13:01:14.698823Z",
     "iopub.status.busy": "2022-03-13T13:01:14.698574Z",
     "iopub.status.idle": "2022-03-13T13:01:21.867467Z",
     "shell.execute_reply": "2022-03-13T13:01:21.866925Z"
    },
    "id": "qJM0ecFCGW7m"
   },
   "outputs": [
    {
     "name": "stderr",
     "output_type": "stream",
     "text": [
      "Matplotlib is building the font cache; this may take a moment.\n"
     ]
    }
   ],
   "source": [
    "import numpy as np\n",
    "import cv2 as cv\n",
    "from scipy.ndimage import rotate\n",
    "from skimage import io\n",
    "from math import sin, cos, radians, sqrt, ceil, floor\n",
    "from threading import Thread, Lock\n",
    "from typing import List\n",
    "from matplotlib import pyplot as plt\n"
   ]
  },
  {
   "cell_type": "markdown",
   "metadata": {},
   "source": [
    "$ \\displaystyle\n",
    "\\int f(x,y) \\approx \\sum_{\\theta = 0}^{2\\pi} R_{z(-\\theta)} \\cdot \\sum_{x=0}^{x_{max}} f(x, y) \\cdot R_{z(\\theta)},\n",
    "$"
   ]
  },
  {
   "cell_type": "code",
   "execution_count": 2,
   "metadata": {
    "execution": {
     "iopub.execute_input": "2022-03-13T13:01:21.870511Z",
     "iopub.status.busy": "2022-03-13T13:01:21.870359Z",
     "iopub.status.idle": "2022-03-13T13:01:21.884834Z",
     "shell.execute_reply": "2022-03-13T13:01:21.884341Z"
    }
   },
   "outputs": [],
   "source": [
    "def estimate_depth_map(\n",
    "    normal_map_path: str,\n",
    "    normal_map_is_open_gl: bool = True,\n",
    "    target_iteration_count: int = 100,\n",
    "    max_thread_count: int = 1,\n",
    ") -> np.ndarray:\n",
    "\n",
    "    max_thread_count = max(max_thread_count, 1)\n",
    "    target_iteration_count = max(target_iteration_count, 1)\n",
    "\n",
    "    normal_map = io.imread(normal_map_path)\n",
    "\n",
    "    depth_map = np.zeros((normal_map.shape[0], normal_map.shape[1]))\n",
    "\n",
    "    # TODO Handle non-open_gl.\n",
    "\n",
    "    # Transforms from [0, 255] to [-1,1].\n",
    "    normal_map = ((normal_map / 255) - 0.5) * 2\n",
    "    # TODO Normalize the normals even though they already should be normalized.\n",
    "\n",
    "    # TODO Test angle between vector and plane as gradient.\n",
    "    x_axis = [1, 0, 0]\n",
    "    y_axis = [0, 1, 0]\n",
    "    # normal_map[:, :, 0] = np.arccos(np.dot(normal_map, x_axis)) / pi\n",
    "    # normal_map[:, :, 1] = np.arccos(np.dot(normal_map, y_axis)) / pi\n",
    "\n",
    "    normal_map[:, :, 0][normal_map[:, :, 2] != 0] /= normal_map[:, :, 2][\n",
    "        normal_map[:, :, 2] != 0\n",
    "    ]\n",
    "    normal_map[:, :, 1][normal_map[:, :, 2] != 0] /= normal_map[:, :, 2][\n",
    "        normal_map[:, :, 2] != 0\n",
    "    ]\n",
    "    normal_map[normal_map[:, :, 2] == -1] = [0, 0, 0]\n",
    "\n",
    "    normal_map[:, :, 0] *= -1  # TODO ?\n",
    "\n",
    "    n_w, n_h, _ = normal_map.shape\n",
    "\n",
    "    diagonal_length: int = ceil(sqrt(pow(n_w, 2) + pow(n_h, 2)))\n",
    "    isotropic_integral = np.zeros((diagonal_length, diagonal_length))\n",
    "    isotropic_integral_lock: Lock = Lock()\n",
    "\n",
    "    i_w, i_h = isotropic_integral.shape\n",
    "\n",
    "    fx: np.ndarray = np.zeros(isotropic_integral.shape)\n",
    "    fy: np.ndarray = np.zeros(isotropic_integral.shape)\n",
    "\n",
    "    fx[\n",
    "        floor((i_w - n_w) / 2) : floor((i_w + n_w) / 2),\n",
    "        floor((i_h - n_h) / 2) : floor((i_h + n_h) / 2),\n",
    "    ] = normal_map[:, :, 0]\n",
    "    fy[\n",
    "        floor((i_w - n_w) / 2) : floor((i_w + n_w) / 2),\n",
    "        floor((i_h - n_h) / 2) : floor((i_h + n_h) / 2),\n",
    "    ] = normal_map[:, :, 1]\n",
    "\n",
    "    def integrate_anisotropic(angles: List[float]):\n",
    "        for angle in angles:\n",
    "\n",
    "            x_factor: float = cos(radians(angle))\n",
    "            y_factor: float = sin(radians(angle))\n",
    "\n",
    "            factor_norm: float = abs(x_factor) + abs(y_factor)\n",
    "            x_factor /= factor_norm\n",
    "            y_factor /= factor_norm\n",
    "\n",
    "            fxy = fx * x_factor + fy * y_factor\n",
    "            fxy = rotate(fxy, angle, axes=(1, 0), reshape=False)\n",
    "\n",
    "            anisotropic_integral = rotate(\n",
    "                np.cumsum(fxy, axis=1), -angle, axes=(1, 0), reshape=False\n",
    "            )\n",
    "\n",
    "            isotropic_integral_lock.acquire()\n",
    "            isotropic_integral[~np.isnan(anisotropic_integral)] += anisotropic_integral[\n",
    "                ~np.isnan(anisotropic_integral)\n",
    "            ]\n",
    "            isotropic_integral_lock.release()\n",
    "\n",
    "    anisotropic_integral_threads: List[Thread] = []\n",
    "    angle_per_thread: float = 360 / max_thread_count\n",
    "    iterations_per_thread: int = max(\n",
    "        round(target_iteration_count / max_thread_count), 1\n",
    "    )\n",
    "\n",
    "    for thread_id in range(0, max_thread_count + 1):\n",
    "        angle_start_point: float = thread_id * angle_per_thread\n",
    "        angle_stop_point: float = (thread_id + 1) * angle_per_thread\n",
    "\n",
    "        angles = np.linspace(\n",
    "            angle_start_point,\n",
    "            angle_stop_point,\n",
    "            iterations_per_thread,\n",
    "            endpoint=False,\n",
    "        )\n",
    "\n",
    "        thread = Thread(target=integrate_anisotropic, args=(angles,))\n",
    "        thread.start()\n",
    "        anisotropic_integral_threads.append(thread)\n",
    "\n",
    "    for thread in anisotropic_integral_threads:\n",
    "        thread.join()\n",
    "\n",
    "    depth_map = isotropic_integral[\n",
    "        floor((i_w - n_w) / 2) : floor((i_w + n_w) / 2),\n",
    "        floor((i_h - n_h) / 2) : floor((i_h + n_h) / 2),\n",
    "    ]\n",
    "\n",
    "    depth_map[\n",
    "        np.sqrt(\n",
    "            np.abs(normal_map[:, :, 0])\n",
    "            + np.abs(normal_map[:, :, 1])\n",
    "            + np.abs(normal_map[:, :, 2])\n",
    "        )\n",
    "        == 0\n",
    "    ] = None\n",
    "\n",
    "    # Normalizes depth values between [0, 1].\n",
    "    depth_map -= np.min(depth_map[~np.isnan(depth_map)])\n",
    "    depth_map /= np.max(depth_map[~np.isnan(depth_map)])\n",
    "\n",
    "    depth_map *= pow(2, 8) - 1\n",
    "\n",
    "    return depth_map\n"
   ]
  },
  {
   "cell_type": "markdown",
   "metadata": {},
   "source": [
    "## Example usage"
   ]
  },
  {
   "cell_type": "code",
   "execution_count": 3,
   "metadata": {
    "execution": {
     "iopub.execute_input": "2022-03-13T13:01:21.887066Z",
     "iopub.status.busy": "2022-03-13T13:01:21.886924Z",
     "iopub.status.idle": "2022-03-13T13:01:33.056020Z",
     "shell.execute_reply": "2022-03-13T13:01:33.055524Z"
    }
   },
   "outputs": [
    {
     "data": {
      "text/plain": [
       "<matplotlib.image.AxesImage at 0x7f4051650730>"
      ]
     },
     "execution_count": 3,
     "metadata": {},
     "output_type": "execute_result"
    },
    {
     "data": {
      "image/png": "[encoded data removed]",
      "text/plain": [
       "<Figure size 432x288 with 1 Axes>"
      ]
     },
     "metadata": {
      "needs_background": "light"
     },
     "output_type": "display_data"
    }
   ],
   "source": [
    "NORMAL_MAP_PATH: str = (\n",
    "    \"https://github.com/YertleTurtleGit/depth-from-normals/blob/main/normal_mapping.png\"\n",
    ")\n",
    "DEPTH_MAP_PATH: str = \"depth_mapping.png\"\n",
    "\n",
    "depth_map_image: np.ndarray = estimate_depth_map(\n",
    "    NORMAL_MAP_PATH,\n",
    "    normal_map_is_open_gl=True,\n",
    "    target_iteration_count=100,\n",
    "    max_thread_count=2,\n",
    ")\n",
    "\n",
    "cv.imwrite(DEPTH_MAP_PATH, depth_map_image)\n",
    "plt.imshow(depth_map_image)\n"
   ]
  }
 ],
 "metadata": {
  "anaconda-cloud": {},
  "colab": {
   "collapsed_sections": [],
   "name": "map-test.ipynb",
   "provenance": []
  },
  "kernelspec": {
   "display_name": "Python 3",
   "language": "python",
   "name": "python3"
  },
  "language_info": {
   "codemirror_mode": {
    "name": "ipython",
    "version": 3
   },
   "file_extension": ".py",
   "mimetype": "text/x-python",
   "name": "python",
   "nbconvert_exporter": "python",
   "pygments_lexer": "ipython3",
   "version": "3.8.10"
  }
 },
 "nbformat": 4,
 "nbformat_minor": 0
}
