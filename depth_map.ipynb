{
 "cells": [
  {
   "cell_type": "markdown",
   "metadata": {},
   "source": [
    "# Depth Mapping from Normal Mapping with Averaged Integrals from Rotated Discrete Origin Functions"
   ]
  },
  {
   "cell_type": "markdown",
   "metadata": {},
   "source": [
    "This algorithm estimates a 3d integral with the normal mapping. First the directional gradients of the normals in x- and y-direction are calculated. They are then used to calculate the integrated values by a cumulative sum (Riemann sum). This process is repeated with differently rotated versions of the gradient mapping to average the values and reduce errors as a cumulative sum alone is very prone for subsequent errors."
   ]
  },
  {
   "cell_type": "code",
   "execution_count": 1,
   "metadata": {
    "execution": {
     "iopub.execute_input": "2022-03-21T08:04:05.280324Z",
     "iopub.status.busy": "2022-03-21T08:04:05.279926Z",
     "iopub.status.idle": "2022-03-21T08:04:05.287018Z",
     "shell.execute_reply": "2022-03-21T08:04:05.286531Z"
    }
   },
   "outputs": [],
   "source": [
    "# @title Settings\n",
    "NORMAL_MAP_PATH: str = \"https://raw.githubusercontent.com/YertleTurtleGit/depth-from-normals/main/normal_mapping.png\"  # @param {type: \"string\"}\n",
    "NORMAL_MAP_IS_OPEN_GL: bool = True  # @param {type: \"boolean\"}\n",
    "TARGET_QUALITY_PERCENT: float = 1  # @param {type: \"slider\", min: 1, max: 100}\n",
    "MAX_THREAD_COUNT: int = 4  # @param {type: \"integer\"}\n",
    "DEPTH_MAP_PATH: str = \"depth_mapping.png\"  # @param {type: \"string\"}\n"
   ]
  },
  {
   "cell_type": "markdown",
   "metadata": {
    "id": "5VrhtlvFNVE6"
   },
   "source": [
    "## Imports\n"
   ]
  },
  {
   "cell_type": "code",
   "execution_count": 2,
   "metadata": {
    "execution": {
     "iopub.execute_input": "2022-03-21T08:04:05.289303Z",
     "iopub.status.busy": "2022-03-21T08:04:05.289164Z",
     "iopub.status.idle": "2022-03-21T08:04:19.591044Z",
     "shell.execute_reply": "2022-03-21T08:04:19.590486Z"
    },
    "id": "qJM0ecFCGW7m"
   },
   "outputs": [
    {
     "name": "stderr",
     "output_type": "stream",
     "text": [
      "Matplotlib is building the font cache; this may take a moment.\n"
     ]
    }
   ],
   "source": [
    "import numpy as np\n",
    "import cv2 as cv\n",
    "from scipy.ndimage import rotate\n",
    "from skimage import io\n",
    "from math import sin, cos, radians\n",
    "from threading import Thread, Lock\n",
    "from typing import List\n",
    "from matplotlib import pyplot as plt\n"
   ]
  },
  {
   "cell_type": "markdown",
   "metadata": {},
   "source": [
    "$ \\displaystyle\n",
    "\\int f(x,y) \\approx \\sum_{\\theta = 0}^{2\\pi} R_{z(-\\theta)} \\cdot \\sum_{x=0}^{x_{max}} f(x, y) \\cdot R_{z(\\theta)}\n",
    "$"
   ]
  },
  {
   "cell_type": "code",
   "execution_count": 3,
   "metadata": {
    "execution": {
     "iopub.execute_input": "2022-03-21T08:04:19.593769Z",
     "iopub.status.busy": "2022-03-21T08:04:19.593613Z",
     "iopub.status.idle": "2022-03-21T08:04:19.635319Z",
     "shell.execute_reply": "2022-03-21T08:04:19.634803Z"
    }
   },
   "outputs": [],
   "source": [
    "def estimate_depth_map(\n",
    "    normal_map_uri: str,\n",
    "    normal_map_is_open_gl: bool = True,\n",
    "    target_quality_percent: float = 1,\n",
    "    max_thread_count: int = 1,\n",
    ") -> np.ndarray:\n",
    "    \"\"\"Estimates a depth mapping from a given normal mapping.\n",
    "\n",
    "    Parameters\n",
    "    ----------\n",
    "    normal_map_path : str\n",
    "        The URI or simple filepath to the normal mapping.\n",
    "    normal_map_is_open_gl : bool, optional\n",
    "        Set to `False` if the normal map is in DirectX format with flipped green/y channel, by default `True`.\n",
    "    target_quality_percent : float, optional\n",
    "        The target quality of the depth mapping defined how many iterations of integrations are performed, by default `1`.\n",
    "    max_thread_count : int, optional\n",
    "        The maximum number of threads used to calculate the depth mapping, by default `1`.\n",
    "\n",
    "    Returns\n",
    "    -------\n",
    "    np.ndarray\n",
    "        The depth mapping as image array.\n",
    "    \"\"\"\n",
    "\n",
    "    normal_map = io.imread(normal_map_uri).astype(np.float64)\n",
    "    width, height, _ = normal_map.shape\n",
    "    normal_map = normal_map[:, :, :3]  # Remove alpha channel if present.\n",
    "    normal_map = ((normal_map / 255) - 0.5) * 2  # Transform from [0, 255] to [-1, 1].\n",
    "    if not normal_map_is_open_gl:\n",
    "        normal_map[:, :, 1] *= -1  # Invert green/y channel if not OpenGL.\n",
    "\n",
    "    gradient_map = np.empty((width, height, 2))\n",
    "    gradient_map[:, :, 0] = -normal_map[:, :, 0] / normal_map[:, :, 2]\n",
    "    gradient_map[:, :, 1] = normal_map[:, :, 1] / normal_map[:, :, 2]\n",
    "\n",
    "    isotropic_integral = np.zeros((width, height))\n",
    "    isotropic_integral_lock: Lock = Lock()\n",
    "\n",
    "    def integrate_anisotropic(angles: List[float]):\n",
    "\n",
    "        for angle in angles:\n",
    "\n",
    "            anisotropic_gradient_map = rotate(\n",
    "                gradient_map[:, :, 0] * cos(radians(angle))\n",
    "                + gradient_map[:, :, 1] * sin(radians(angle)),\n",
    "                angle,\n",
    "            ).astype(np.float64)\n",
    "\n",
    "            anisotropic_integral = rotate(\n",
    "                np.cumsum(anisotropic_gradient_map, axis=1),\n",
    "                -angle,\n",
    "            ).astype(np.float64)\n",
    "\n",
    "            left_crop = round((anisotropic_integral.shape[0] - width) / 2)\n",
    "            top_crop = round((anisotropic_integral.shape[1] - height) / 2)\n",
    "            anisotropic_integral = anisotropic_integral[\n",
    "                left_crop : left_crop + width,\n",
    "                top_crop : top_crop + height,\n",
    "            ]\n",
    "\n",
    "            isotropic_integral_lock.acquire()\n",
    "            nonlocal isotropic_integral\n",
    "            isotropic_integral += anisotropic_integral\n",
    "            isotropic_integral_lock.release()\n",
    "\n",
    "    max_thread_count = max(max_thread_count, 1)\n",
    "    target_iteration_count: float = max(\n",
    "        (width * 2 + height * 2) * (min(target_quality_percent, 100) / 100), 1\n",
    "    )\n",
    "    anisotropic_integral_threads: List[Thread] = []\n",
    "    angle_per_thread: float = 360 / max_thread_count\n",
    "    iterations_per_thread: int = max(\n",
    "        round(target_iteration_count / max_thread_count), 1\n",
    "    )\n",
    "\n",
    "    for thread_id in range(0, max_thread_count):\n",
    "        angle_start_point: float = thread_id * angle_per_thread\n",
    "        angle_stop_point: float = (thread_id + 1) * angle_per_thread\n",
    "\n",
    "        angles = np.linspace(\n",
    "            angle_start_point,\n",
    "            angle_stop_point,\n",
    "            iterations_per_thread,\n",
    "            endpoint=False,\n",
    "        )\n",
    "\n",
    "        thread = Thread(target=integrate_anisotropic, args=(angles,))\n",
    "        thread.start()\n",
    "        anisotropic_integral_threads.append(thread)\n",
    "\n",
    "    for thread in anisotropic_integral_threads:\n",
    "        thread.join()\n",
    "\n",
    "    depth_map = isotropic_integral\n",
    "\n",
    "    # Normalizes depth values to [0, 1].\n",
    "    depth_map -= np.min(depth_map)\n",
    "    depth_map /= np.max(depth_map)\n",
    "\n",
    "    depth_map *= 255  # Transform from [0, 1] to [0, 255].\n",
    "\n",
    "    return depth_map\n"
   ]
  },
  {
   "cell_type": "markdown",
   "metadata": {},
   "source": [
    "## Example usage"
   ]
  },
  {
   "cell_type": "code",
   "execution_count": 4,
   "metadata": {
    "execution": {
     "iopub.execute_input": "2022-03-21T08:04:19.637533Z",
     "iopub.status.busy": "2022-03-21T08:04:19.637390Z",
     "iopub.status.idle": "2022-03-21T08:04:21.129930Z",
     "shell.execute_reply": "2022-03-21T08:04:21.129503Z"
    }
   },
   "outputs": [
    {
     "data": {
      "text/plain": [
       "<matplotlib.image.AxesImage at 0x7fba3111c7f0>"
      ]
     },
     "execution_count": 4,
     "metadata": {},
     "output_type": "execute_result"
    },
    {
     "data": {
      "image/png": "[encoded data removed]",
      "text/plain": [
       "<Figure size 432x288 with 1 Axes>"
      ]
     },
     "metadata": {
      "needs_background": "light"
     },
     "output_type": "display_data"
    }
   ],
   "source": [
    "depth_map_image: np.ndarray = estimate_depth_map(\n",
    "    NORMAL_MAP_PATH,\n",
    "    normal_map_is_open_gl=NORMAL_MAP_IS_OPEN_GL,\n",
    "    target_quality_percent=TARGET_QUALITY_PERCENT,\n",
    "    max_thread_count=MAX_THREAD_COUNT,\n",
    ")\n",
    "\n",
    "cv.imwrite(DEPTH_MAP_PATH, depth_map_image)\n",
    "plt.imshow(depth_map_image, cmap=\"gray\")\n"
   ]
  }
 ],
 "metadata": {
  "anaconda-cloud": {},
  "colab": {
   "collapsed_sections": [],
   "name": "map-test.ipynb",
   "provenance": []
  },
  "kernelspec": {
   "display_name": "Python 3",
   "language": "python",
   "name": "python3"
  },
  "language_info": {
   "codemirror_mode": {
    "name": "ipython",
    "version": 3
   },
   "file_extension": ".py",
   "mimetype": "text/x-python",
   "name": "python",
   "nbconvert_exporter": "python",
   "pygments_lexer": "ipython3",
   "version": "3.8.10"
  }
 },
 "nbformat": 4,
 "nbformat_minor": 0
}
